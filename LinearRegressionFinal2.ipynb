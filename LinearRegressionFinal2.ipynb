{
 "cells": [
  {
   "cell_type": "code",
   "execution_count": 1,
   "id": "70d4acf9",
   "metadata": {
    "scrolled": true
   },
   "outputs": [],
   "source": [
    "import pandas as pd \n",
    "\n",
    "data1 = pd.read_csv('/Users/harol/Downloads/archive432/Car_sales.csv')"
   ]
  },
  {
   "cell_type": "code",
   "execution_count": 2,
   "id": "500941d9",
   "metadata": {},
   "outputs": [
    {
     "data": {
      "text/plain": [
       "Manufacturer            object\n",
       "Model                   object\n",
       "Sales_in_thousands     float64\n",
       "__year_resale_value    float64\n",
       "Vehicle_type            object\n",
       "Price_in_thousands     float64\n",
       "Engine_size            float64\n",
       "Horsepower             float64\n",
       "Wheelbase              float64\n",
       "Width                  float64\n",
       "Length                 float64\n",
       "Curb_weight            float64\n",
       "Fuel_capacity          float64\n",
       "Fuel_efficiency        float64\n",
       "Latest_Launch           object\n",
       "Power_perf_factor      float64\n",
       "dtype: object"
      ]
     },
     "execution_count": 2,
     "metadata": {},
     "output_type": "execute_result"
    }
   ],
   "source": [
    "data1.dtypes"
   ]
  },
  {
   "cell_type": "code",
   "execution_count": 91,
   "id": "b6c8d3d5",
   "metadata": {},
   "outputs": [
    {
     "data": {
      "text/html": [
       "<div>\n",
       "<style scoped>\n",
       "    .dataframe tbody tr th:only-of-type {\n",
       "        vertical-align: middle;\n",
       "    }\n",
       "\n",
       "    .dataframe tbody tr th {\n",
       "        vertical-align: top;\n",
       "    }\n",
       "\n",
       "    .dataframe thead th {\n",
       "        text-align: right;\n",
       "    }\n",
       "</style>\n",
       "<table border=\"1\" class=\"dataframe\">\n",
       "  <thead>\n",
       "    <tr style=\"text-align: right;\">\n",
       "      <th></th>\n",
       "      <th>Manufacturer</th>\n",
       "      <th>Model</th>\n",
       "      <th>Sales_in_thousands</th>\n",
       "      <th>__year_resale_value</th>\n",
       "      <th>Vehicle_type</th>\n",
       "      <th>Price_in_thousands</th>\n",
       "      <th>Engine_size</th>\n",
       "      <th>Horsepower</th>\n",
       "      <th>Wheelbase</th>\n",
       "      <th>Width</th>\n",
       "      <th>Length</th>\n",
       "      <th>Curb_weight</th>\n",
       "      <th>Fuel_capacity</th>\n",
       "      <th>Fuel_efficiency</th>\n",
       "      <th>Latest_Launch</th>\n",
       "      <th>Power_perf_factor</th>\n",
       "    </tr>\n",
       "  </thead>\n",
       "  <tbody>\n",
       "    <tr>\n",
       "      <th>0</th>\n",
       "      <td>Acura</td>\n",
       "      <td>Integra</td>\n",
       "      <td>16.919</td>\n",
       "      <td>16.360</td>\n",
       "      <td>Passenger</td>\n",
       "      <td>21.50</td>\n",
       "      <td>1.8</td>\n",
       "      <td>140.0</td>\n",
       "      <td>101.2</td>\n",
       "      <td>67.3</td>\n",
       "      <td>172.4</td>\n",
       "      <td>2.639</td>\n",
       "      <td>13.2</td>\n",
       "      <td>28.0</td>\n",
       "      <td>2/2/2012</td>\n",
       "      <td>58.280150</td>\n",
       "    </tr>\n",
       "    <tr>\n",
       "      <th>1</th>\n",
       "      <td>Acura</td>\n",
       "      <td>TL</td>\n",
       "      <td>39.384</td>\n",
       "      <td>19.875</td>\n",
       "      <td>Passenger</td>\n",
       "      <td>28.40</td>\n",
       "      <td>3.2</td>\n",
       "      <td>225.0</td>\n",
       "      <td>108.1</td>\n",
       "      <td>70.3</td>\n",
       "      <td>192.9</td>\n",
       "      <td>3.517</td>\n",
       "      <td>17.2</td>\n",
       "      <td>25.0</td>\n",
       "      <td>6/3/2011</td>\n",
       "      <td>91.370778</td>\n",
       "    </tr>\n",
       "    <tr>\n",
       "      <th>2</th>\n",
       "      <td>Acura</td>\n",
       "      <td>CL</td>\n",
       "      <td>14.114</td>\n",
       "      <td>18.225</td>\n",
       "      <td>Passenger</td>\n",
       "      <td>0.00</td>\n",
       "      <td>3.2</td>\n",
       "      <td>225.0</td>\n",
       "      <td>106.9</td>\n",
       "      <td>70.6</td>\n",
       "      <td>192.0</td>\n",
       "      <td>3.470</td>\n",
       "      <td>17.2</td>\n",
       "      <td>26.0</td>\n",
       "      <td>1/4/2012</td>\n",
       "      <td>0.000000</td>\n",
       "    </tr>\n",
       "    <tr>\n",
       "      <th>3</th>\n",
       "      <td>Acura</td>\n",
       "      <td>RL</td>\n",
       "      <td>8.588</td>\n",
       "      <td>29.725</td>\n",
       "      <td>Passenger</td>\n",
       "      <td>42.00</td>\n",
       "      <td>3.5</td>\n",
       "      <td>210.0</td>\n",
       "      <td>114.6</td>\n",
       "      <td>71.4</td>\n",
       "      <td>196.6</td>\n",
       "      <td>3.850</td>\n",
       "      <td>18.0</td>\n",
       "      <td>22.0</td>\n",
       "      <td>3/10/2011</td>\n",
       "      <td>91.389779</td>\n",
       "    </tr>\n",
       "    <tr>\n",
       "      <th>4</th>\n",
       "      <td>Audi</td>\n",
       "      <td>A4</td>\n",
       "      <td>20.397</td>\n",
       "      <td>22.255</td>\n",
       "      <td>Passenger</td>\n",
       "      <td>23.99</td>\n",
       "      <td>1.8</td>\n",
       "      <td>150.0</td>\n",
       "      <td>102.6</td>\n",
       "      <td>68.2</td>\n",
       "      <td>178.0</td>\n",
       "      <td>2.998</td>\n",
       "      <td>16.4</td>\n",
       "      <td>27.0</td>\n",
       "      <td>10/8/2011</td>\n",
       "      <td>62.777639</td>\n",
       "    </tr>\n",
       "    <tr>\n",
       "      <th>5</th>\n",
       "      <td>Audi</td>\n",
       "      <td>A6</td>\n",
       "      <td>18.780</td>\n",
       "      <td>23.555</td>\n",
       "      <td>Passenger</td>\n",
       "      <td>33.95</td>\n",
       "      <td>2.8</td>\n",
       "      <td>200.0</td>\n",
       "      <td>108.7</td>\n",
       "      <td>76.1</td>\n",
       "      <td>192.0</td>\n",
       "      <td>3.561</td>\n",
       "      <td>18.5</td>\n",
       "      <td>22.0</td>\n",
       "      <td>8/9/2011</td>\n",
       "      <td>84.565105</td>\n",
       "    </tr>\n",
       "    <tr>\n",
       "      <th>6</th>\n",
       "      <td>Audi</td>\n",
       "      <td>A8</td>\n",
       "      <td>1.380</td>\n",
       "      <td>39.000</td>\n",
       "      <td>Passenger</td>\n",
       "      <td>62.00</td>\n",
       "      <td>4.2</td>\n",
       "      <td>310.0</td>\n",
       "      <td>113.0</td>\n",
       "      <td>74.0</td>\n",
       "      <td>198.2</td>\n",
       "      <td>3.902</td>\n",
       "      <td>23.7</td>\n",
       "      <td>21.0</td>\n",
       "      <td>2/27/2012</td>\n",
       "      <td>134.656858</td>\n",
       "    </tr>\n",
       "    <tr>\n",
       "      <th>7</th>\n",
       "      <td>BMW</td>\n",
       "      <td>323i</td>\n",
       "      <td>19.747</td>\n",
       "      <td>0.000</td>\n",
       "      <td>Passenger</td>\n",
       "      <td>26.99</td>\n",
       "      <td>2.5</td>\n",
       "      <td>170.0</td>\n",
       "      <td>107.3</td>\n",
       "      <td>68.4</td>\n",
       "      <td>176.0</td>\n",
       "      <td>3.179</td>\n",
       "      <td>16.6</td>\n",
       "      <td>26.0</td>\n",
       "      <td>6/28/2011</td>\n",
       "      <td>71.191207</td>\n",
       "    </tr>\n",
       "    <tr>\n",
       "      <th>8</th>\n",
       "      <td>BMW</td>\n",
       "      <td>328i</td>\n",
       "      <td>9.231</td>\n",
       "      <td>28.675</td>\n",
       "      <td>Passenger</td>\n",
       "      <td>33.40</td>\n",
       "      <td>2.8</td>\n",
       "      <td>193.0</td>\n",
       "      <td>107.3</td>\n",
       "      <td>68.5</td>\n",
       "      <td>176.0</td>\n",
       "      <td>3.197</td>\n",
       "      <td>16.6</td>\n",
       "      <td>24.0</td>\n",
       "      <td>1/29/2012</td>\n",
       "      <td>81.877069</td>\n",
       "    </tr>\n",
       "    <tr>\n",
       "      <th>9</th>\n",
       "      <td>BMW</td>\n",
       "      <td>528i</td>\n",
       "      <td>17.527</td>\n",
       "      <td>36.125</td>\n",
       "      <td>Passenger</td>\n",
       "      <td>38.90</td>\n",
       "      <td>2.8</td>\n",
       "      <td>193.0</td>\n",
       "      <td>111.4</td>\n",
       "      <td>70.9</td>\n",
       "      <td>188.0</td>\n",
       "      <td>3.472</td>\n",
       "      <td>18.5</td>\n",
       "      <td>25.0</td>\n",
       "      <td>4/4/2011</td>\n",
       "      <td>83.998724</td>\n",
       "    </tr>\n",
       "  </tbody>\n",
       "</table>\n",
       "</div>"
      ],
      "text/plain": [
       "  Manufacturer    Model  Sales_in_thousands  __year_resale_value Vehicle_type  \\\n",
       "0        Acura  Integra              16.919               16.360    Passenger   \n",
       "1        Acura       TL              39.384               19.875    Passenger   \n",
       "2        Acura       CL              14.114               18.225    Passenger   \n",
       "3        Acura       RL               8.588               29.725    Passenger   \n",
       "4         Audi       A4              20.397               22.255    Passenger   \n",
       "5         Audi       A6              18.780               23.555    Passenger   \n",
       "6         Audi       A8               1.380               39.000    Passenger   \n",
       "7          BMW     323i              19.747                0.000    Passenger   \n",
       "8          BMW     328i               9.231               28.675    Passenger   \n",
       "9          BMW     528i              17.527               36.125    Passenger   \n",
       "\n",
       "   Price_in_thousands  Engine_size  Horsepower  Wheelbase  Width  Length  \\\n",
       "0               21.50          1.8       140.0      101.2   67.3   172.4   \n",
       "1               28.40          3.2       225.0      108.1   70.3   192.9   \n",
       "2                0.00          3.2       225.0      106.9   70.6   192.0   \n",
       "3               42.00          3.5       210.0      114.6   71.4   196.6   \n",
       "4               23.99          1.8       150.0      102.6   68.2   178.0   \n",
       "5               33.95          2.8       200.0      108.7   76.1   192.0   \n",
       "6               62.00          4.2       310.0      113.0   74.0   198.2   \n",
       "7               26.99          2.5       170.0      107.3   68.4   176.0   \n",
       "8               33.40          2.8       193.0      107.3   68.5   176.0   \n",
       "9               38.90          2.8       193.0      111.4   70.9   188.0   \n",
       "\n",
       "   Curb_weight  Fuel_capacity  Fuel_efficiency Latest_Launch  \\\n",
       "0        2.639           13.2             28.0      2/2/2012   \n",
       "1        3.517           17.2             25.0      6/3/2011   \n",
       "2        3.470           17.2             26.0      1/4/2012   \n",
       "3        3.850           18.0             22.0     3/10/2011   \n",
       "4        2.998           16.4             27.0     10/8/2011   \n",
       "5        3.561           18.5             22.0      8/9/2011   \n",
       "6        3.902           23.7             21.0     2/27/2012   \n",
       "7        3.179           16.6             26.0     6/28/2011   \n",
       "8        3.197           16.6             24.0     1/29/2012   \n",
       "9        3.472           18.5             25.0      4/4/2011   \n",
       "\n",
       "   Power_perf_factor  \n",
       "0          58.280150  \n",
       "1          91.370778  \n",
       "2           0.000000  \n",
       "3          91.389779  \n",
       "4          62.777639  \n",
       "5          84.565105  \n",
       "6         134.656858  \n",
       "7          71.191207  \n",
       "8          81.877069  \n",
       "9          83.998724  "
      ]
     },
     "execution_count": 91,
     "metadata": {},
     "output_type": "execute_result"
    }
   ],
   "source": [
    "data1.head(10)"
   ]
  },
  {
   "cell_type": "code",
   "execution_count": 4,
   "id": "38cc0d16",
   "metadata": {},
   "outputs": [
    {
     "data": {
      "text/plain": [
       "True"
      ]
     },
     "execution_count": 4,
     "metadata": {},
     "output_type": "execute_result"
    }
   ],
   "source": [
    "#Checking to see the number of NaN values \n",
    "data1['Fuel_efficiency'].isnull().values.any()"
   ]
  },
  {
   "cell_type": "code",
   "execution_count": 5,
   "id": "993a185b",
   "metadata": {},
   "outputs": [
    {
     "data": {
      "text/html": [
       "<div>\n",
       "<style scoped>\n",
       "    .dataframe tbody tr th:only-of-type {\n",
       "        vertical-align: middle;\n",
       "    }\n",
       "\n",
       "    .dataframe tbody tr th {\n",
       "        vertical-align: top;\n",
       "    }\n",
       "\n",
       "    .dataframe thead th {\n",
       "        text-align: right;\n",
       "    }\n",
       "</style>\n",
       "<table border=\"1\" class=\"dataframe\">\n",
       "  <thead>\n",
       "    <tr style=\"text-align: right;\">\n",
       "      <th></th>\n",
       "      <th>Manufacturer</th>\n",
       "      <th>Model</th>\n",
       "      <th>Sales_in_thousands</th>\n",
       "      <th>__year_resale_value</th>\n",
       "      <th>Vehicle_type</th>\n",
       "      <th>Price_in_thousands</th>\n",
       "      <th>Engine_size</th>\n",
       "      <th>Horsepower</th>\n",
       "      <th>Wheelbase</th>\n",
       "      <th>Width</th>\n",
       "      <th>Length</th>\n",
       "      <th>Curb_weight</th>\n",
       "      <th>Fuel_capacity</th>\n",
       "      <th>Fuel_efficiency</th>\n",
       "      <th>Latest_Launch</th>\n",
       "      <th>Power_perf_factor</th>\n",
       "    </tr>\n",
       "  </thead>\n",
       "  <tbody>\n",
       "    <tr>\n",
       "      <th>0</th>\n",
       "      <td>Acura</td>\n",
       "      <td>Integra</td>\n",
       "      <td>16.919</td>\n",
       "      <td>16.360</td>\n",
       "      <td>Passenger</td>\n",
       "      <td>21.50</td>\n",
       "      <td>1.8</td>\n",
       "      <td>140.0</td>\n",
       "      <td>101.2</td>\n",
       "      <td>67.3</td>\n",
       "      <td>172.4</td>\n",
       "      <td>2.639</td>\n",
       "      <td>13.2</td>\n",
       "      <td>28.0</td>\n",
       "      <td>2/2/2012</td>\n",
       "      <td>58.280150</td>\n",
       "    </tr>\n",
       "    <tr>\n",
       "      <th>1</th>\n",
       "      <td>Acura</td>\n",
       "      <td>TL</td>\n",
       "      <td>39.384</td>\n",
       "      <td>19.875</td>\n",
       "      <td>Passenger</td>\n",
       "      <td>28.40</td>\n",
       "      <td>3.2</td>\n",
       "      <td>225.0</td>\n",
       "      <td>108.1</td>\n",
       "      <td>70.3</td>\n",
       "      <td>192.9</td>\n",
       "      <td>3.517</td>\n",
       "      <td>17.2</td>\n",
       "      <td>25.0</td>\n",
       "      <td>6/3/2011</td>\n",
       "      <td>91.370778</td>\n",
       "    </tr>\n",
       "    <tr>\n",
       "      <th>2</th>\n",
       "      <td>Acura</td>\n",
       "      <td>CL</td>\n",
       "      <td>14.114</td>\n",
       "      <td>18.225</td>\n",
       "      <td>Passenger</td>\n",
       "      <td>0.00</td>\n",
       "      <td>3.2</td>\n",
       "      <td>225.0</td>\n",
       "      <td>106.9</td>\n",
       "      <td>70.6</td>\n",
       "      <td>192.0</td>\n",
       "      <td>3.470</td>\n",
       "      <td>17.2</td>\n",
       "      <td>26.0</td>\n",
       "      <td>1/4/2012</td>\n",
       "      <td>0.000000</td>\n",
       "    </tr>\n",
       "    <tr>\n",
       "      <th>3</th>\n",
       "      <td>Acura</td>\n",
       "      <td>RL</td>\n",
       "      <td>8.588</td>\n",
       "      <td>29.725</td>\n",
       "      <td>Passenger</td>\n",
       "      <td>42.00</td>\n",
       "      <td>3.5</td>\n",
       "      <td>210.0</td>\n",
       "      <td>114.6</td>\n",
       "      <td>71.4</td>\n",
       "      <td>196.6</td>\n",
       "      <td>3.850</td>\n",
       "      <td>18.0</td>\n",
       "      <td>22.0</td>\n",
       "      <td>3/10/2011</td>\n",
       "      <td>91.389779</td>\n",
       "    </tr>\n",
       "    <tr>\n",
       "      <th>4</th>\n",
       "      <td>Audi</td>\n",
       "      <td>A4</td>\n",
       "      <td>20.397</td>\n",
       "      <td>22.255</td>\n",
       "      <td>Passenger</td>\n",
       "      <td>23.99</td>\n",
       "      <td>1.8</td>\n",
       "      <td>150.0</td>\n",
       "      <td>102.6</td>\n",
       "      <td>68.2</td>\n",
       "      <td>178.0</td>\n",
       "      <td>2.998</td>\n",
       "      <td>16.4</td>\n",
       "      <td>27.0</td>\n",
       "      <td>10/8/2011</td>\n",
       "      <td>62.777639</td>\n",
       "    </tr>\n",
       "    <tr>\n",
       "      <th>...</th>\n",
       "      <td>...</td>\n",
       "      <td>...</td>\n",
       "      <td>...</td>\n",
       "      <td>...</td>\n",
       "      <td>...</td>\n",
       "      <td>...</td>\n",
       "      <td>...</td>\n",
       "      <td>...</td>\n",
       "      <td>...</td>\n",
       "      <td>...</td>\n",
       "      <td>...</td>\n",
       "      <td>...</td>\n",
       "      <td>...</td>\n",
       "      <td>...</td>\n",
       "      <td>...</td>\n",
       "      <td>...</td>\n",
       "    </tr>\n",
       "    <tr>\n",
       "      <th>152</th>\n",
       "      <td>Volvo</td>\n",
       "      <td>V40</td>\n",
       "      <td>3.545</td>\n",
       "      <td>0.000</td>\n",
       "      <td>Passenger</td>\n",
       "      <td>24.40</td>\n",
       "      <td>1.9</td>\n",
       "      <td>160.0</td>\n",
       "      <td>100.5</td>\n",
       "      <td>67.6</td>\n",
       "      <td>176.6</td>\n",
       "      <td>3.042</td>\n",
       "      <td>15.8</td>\n",
       "      <td>25.0</td>\n",
       "      <td>9/21/2011</td>\n",
       "      <td>66.498812</td>\n",
       "    </tr>\n",
       "    <tr>\n",
       "      <th>153</th>\n",
       "      <td>Volvo</td>\n",
       "      <td>S70</td>\n",
       "      <td>15.245</td>\n",
       "      <td>0.000</td>\n",
       "      <td>Passenger</td>\n",
       "      <td>27.50</td>\n",
       "      <td>2.4</td>\n",
       "      <td>168.0</td>\n",
       "      <td>104.9</td>\n",
       "      <td>69.3</td>\n",
       "      <td>185.9</td>\n",
       "      <td>3.208</td>\n",
       "      <td>17.9</td>\n",
       "      <td>25.0</td>\n",
       "      <td>11/24/2012</td>\n",
       "      <td>70.654495</td>\n",
       "    </tr>\n",
       "    <tr>\n",
       "      <th>154</th>\n",
       "      <td>Volvo</td>\n",
       "      <td>V70</td>\n",
       "      <td>17.531</td>\n",
       "      <td>0.000</td>\n",
       "      <td>Passenger</td>\n",
       "      <td>28.80</td>\n",
       "      <td>2.4</td>\n",
       "      <td>168.0</td>\n",
       "      <td>104.9</td>\n",
       "      <td>69.3</td>\n",
       "      <td>186.2</td>\n",
       "      <td>3.259</td>\n",
       "      <td>17.9</td>\n",
       "      <td>25.0</td>\n",
       "      <td>6/25/2011</td>\n",
       "      <td>71.155978</td>\n",
       "    </tr>\n",
       "    <tr>\n",
       "      <th>155</th>\n",
       "      <td>Volvo</td>\n",
       "      <td>C70</td>\n",
       "      <td>3.493</td>\n",
       "      <td>0.000</td>\n",
       "      <td>Passenger</td>\n",
       "      <td>45.50</td>\n",
       "      <td>2.3</td>\n",
       "      <td>236.0</td>\n",
       "      <td>104.9</td>\n",
       "      <td>71.5</td>\n",
       "      <td>185.7</td>\n",
       "      <td>3.601</td>\n",
       "      <td>18.5</td>\n",
       "      <td>23.0</td>\n",
       "      <td>4/26/2011</td>\n",
       "      <td>101.623357</td>\n",
       "    </tr>\n",
       "    <tr>\n",
       "      <th>156</th>\n",
       "      <td>Volvo</td>\n",
       "      <td>S80</td>\n",
       "      <td>18.969</td>\n",
       "      <td>0.000</td>\n",
       "      <td>Passenger</td>\n",
       "      <td>36.00</td>\n",
       "      <td>2.9</td>\n",
       "      <td>201.0</td>\n",
       "      <td>109.9</td>\n",
       "      <td>72.1</td>\n",
       "      <td>189.8</td>\n",
       "      <td>3.600</td>\n",
       "      <td>21.1</td>\n",
       "      <td>24.0</td>\n",
       "      <td>11/14/2011</td>\n",
       "      <td>85.735655</td>\n",
       "    </tr>\n",
       "  </tbody>\n",
       "</table>\n",
       "<p>157 rows × 16 columns</p>\n",
       "</div>"
      ],
      "text/plain": [
       "    Manufacturer    Model  Sales_in_thousands  __year_resale_value  \\\n",
       "0          Acura  Integra              16.919               16.360   \n",
       "1          Acura       TL              39.384               19.875   \n",
       "2          Acura       CL              14.114               18.225   \n",
       "3          Acura       RL               8.588               29.725   \n",
       "4           Audi       A4              20.397               22.255   \n",
       "..           ...      ...                 ...                  ...   \n",
       "152        Volvo      V40               3.545                0.000   \n",
       "153        Volvo      S70              15.245                0.000   \n",
       "154        Volvo      V70              17.531                0.000   \n",
       "155        Volvo      C70               3.493                0.000   \n",
       "156        Volvo      S80              18.969                0.000   \n",
       "\n",
       "    Vehicle_type  Price_in_thousands  Engine_size  Horsepower  Wheelbase  \\\n",
       "0      Passenger               21.50          1.8       140.0      101.2   \n",
       "1      Passenger               28.40          3.2       225.0      108.1   \n",
       "2      Passenger                0.00          3.2       225.0      106.9   \n",
       "3      Passenger               42.00          3.5       210.0      114.6   \n",
       "4      Passenger               23.99          1.8       150.0      102.6   \n",
       "..           ...                 ...          ...         ...        ...   \n",
       "152    Passenger               24.40          1.9       160.0      100.5   \n",
       "153    Passenger               27.50          2.4       168.0      104.9   \n",
       "154    Passenger               28.80          2.4       168.0      104.9   \n",
       "155    Passenger               45.50          2.3       236.0      104.9   \n",
       "156    Passenger               36.00          2.9       201.0      109.9   \n",
       "\n",
       "     Width  Length  Curb_weight  Fuel_capacity  Fuel_efficiency Latest_Launch  \\\n",
       "0     67.3   172.4        2.639           13.2             28.0      2/2/2012   \n",
       "1     70.3   192.9        3.517           17.2             25.0      6/3/2011   \n",
       "2     70.6   192.0        3.470           17.2             26.0      1/4/2012   \n",
       "3     71.4   196.6        3.850           18.0             22.0     3/10/2011   \n",
       "4     68.2   178.0        2.998           16.4             27.0     10/8/2011   \n",
       "..     ...     ...          ...            ...              ...           ...   \n",
       "152   67.6   176.6        3.042           15.8             25.0     9/21/2011   \n",
       "153   69.3   185.9        3.208           17.9             25.0    11/24/2012   \n",
       "154   69.3   186.2        3.259           17.9             25.0     6/25/2011   \n",
       "155   71.5   185.7        3.601           18.5             23.0     4/26/2011   \n",
       "156   72.1   189.8        3.600           21.1             24.0    11/14/2011   \n",
       "\n",
       "     Power_perf_factor  \n",
       "0            58.280150  \n",
       "1            91.370778  \n",
       "2             0.000000  \n",
       "3            91.389779  \n",
       "4            62.777639  \n",
       "..                 ...  \n",
       "152          66.498812  \n",
       "153          70.654495  \n",
       "154          71.155978  \n",
       "155         101.623357  \n",
       "156          85.735655  \n",
       "\n",
       "[157 rows x 16 columns]"
      ]
     },
     "execution_count": 5,
     "metadata": {},
     "output_type": "execute_result"
    }
   ],
   "source": [
    "#Fill NaN values in the entire dataset\n",
    "data1.fillna(0, inplace = True)\n",
    "data1"
   ]
  },
  {
   "cell_type": "code",
   "execution_count": 6,
   "id": "5cb0a0b8",
   "metadata": {},
   "outputs": [
    {
     "data": {
      "text/plain": [
       "<AxesSubplot:>"
      ]
     },
     "execution_count": 6,
     "metadata": {},
     "output_type": "execute_result"
    },
    {
     "data": {
      "image/png": "[encoded data removed]",
      "text/plain": [
       "<Figure size 432x288 with 1 Axes>"
      ]
     },
     "metadata": {
      "needs_background": "light"
     },
     "output_type": "display_data"
    }
   ],
   "source": [
    "data1.Power_perf_factor.hist()"
   ]
  },
  {
   "cell_type": "code",
   "execution_count": 7,
   "id": "a88b6348",
   "metadata": {},
   "outputs": [
    {
     "data": {
      "text/plain": [
       "False"
      ]
     },
     "execution_count": 7,
     "metadata": {},
     "output_type": "execute_result"
    }
   ],
   "source": [
    "data1['Power_perf_factor'].isnull().values.any()"
   ]
  },
  {
   "cell_type": "code",
   "execution_count": 8,
   "id": "b2cf0d1d",
   "metadata": {},
   "outputs": [],
   "source": [
    "from scipy.stats.mstats import normaltest"
   ]
  },
  {
   "cell_type": "code",
   "execution_count": 9,
   "id": "1808405b",
   "metadata": {},
   "outputs": [
    {
     "data": {
      "text/plain": [
       "NormaltestResult(statistic=22.468224184954984, pvalue=1.3215606812775998e-05)"
      ]
     },
     "execution_count": 9,
     "metadata": {},
     "output_type": "execute_result"
    }
   ],
   "source": [
    "#far from a normally distributed dataset\n",
    "normaltest(data1.Power_perf_factor.values)"
   ]
  },
  {
   "cell_type": "code",
   "execution_count": 10,
   "id": "dfb3fe9c",
   "metadata": {},
   "outputs": [
    {
     "name": "stderr",
     "output_type": "stream",
     "text": [
      "C:\\Users\\harol\\anaconda3\\lib\\site-packages\\pandas\\core\\arraylike.py:397: RuntimeWarning: divide by zero encountered in log\n",
      "  result = getattr(ufunc, method)(*inputs, **kwargs)\n"
     ]
    },
    {
     "data": {
      "text/plain": [
       "0      4.065262\n",
       "1      4.514926\n",
       "2          -inf\n",
       "3      4.515134\n",
       "4      4.139599\n",
       "         ...   \n",
       "152    4.197184\n",
       "153    4.257802\n",
       "154    4.264874\n",
       "155    4.621273\n",
       "156    4.451269\n",
       "Name: Power_perf_factor, Length: 157, dtype: float64"
      ]
     },
     "execution_count": 10,
     "metadata": {},
     "output_type": "execute_result"
    }
   ],
   "source": [
    "#Attempt to aplly a log transformation\n",
    "import numpy as np\n",
    "\n",
    "sqrt_FE = np.log(data1.Power_perf_factor);\n",
    "sqrt_FE"
   ]
  },
  {
   "cell_type": "code",
   "execution_count": 11,
   "id": "86cdbcb1",
   "metadata": {},
   "outputs": [
    {
     "data": {
      "text/plain": [
       "False"
      ]
     },
     "execution_count": 11,
     "metadata": {},
     "output_type": "execute_result"
    }
   ],
   "source": [
    "sqrt_FE.isnull().values.any()"
   ]
  },
  {
   "cell_type": "code",
   "execution_count": 12,
   "id": "63bc4beb",
   "metadata": {},
   "outputs": [],
   "source": [
    "#use the normal test\n",
    "#normaltest(sqrt_FE)"
   ]
  },
  {
   "cell_type": "code",
   "execution_count": 13,
   "id": "7f29ddef",
   "metadata": {},
   "outputs": [],
   "source": [
    "#ploting hist\n",
    "#sqrt_FE.hist()"
   ]
  },
  {
   "cell_type": "code",
   "execution_count": 14,
   "id": "81ab9d4e",
   "metadata": {},
   "outputs": [
    {
     "data": {
      "text/plain": [
       "2"
      ]
     },
     "execution_count": 14,
     "metadata": {},
     "output_type": "execute_result"
    }
   ],
   "source": [
    "(data1.Power_perf_factor < 1).sum().sum()"
   ]
  },
  {
   "cell_type": "code",
   "execution_count": 15,
   "id": "c20f27df",
   "metadata": {},
   "outputs": [
    {
     "data": {
      "text/html": [
       "<div>\n",
       "<style scoped>\n",
       "    .dataframe tbody tr th:only-of-type {\n",
       "        vertical-align: middle;\n",
       "    }\n",
       "\n",
       "    .dataframe tbody tr th {\n",
       "        vertical-align: top;\n",
       "    }\n",
       "\n",
       "    .dataframe thead th {\n",
       "        text-align: right;\n",
       "    }\n",
       "</style>\n",
       "<table border=\"1\" class=\"dataframe\">\n",
       "  <thead>\n",
       "    <tr style=\"text-align: right;\">\n",
       "      <th></th>\n",
       "      <th>Manufacturer</th>\n",
       "      <th>Model</th>\n",
       "      <th>Sales_in_thousands</th>\n",
       "      <th>__year_resale_value</th>\n",
       "      <th>Vehicle_type</th>\n",
       "      <th>Price_in_thousands</th>\n",
       "      <th>Engine_size</th>\n",
       "      <th>Horsepower</th>\n",
       "      <th>Wheelbase</th>\n",
       "      <th>Width</th>\n",
       "      <th>Length</th>\n",
       "      <th>Curb_weight</th>\n",
       "      <th>Fuel_capacity</th>\n",
       "      <th>Fuel_efficiency</th>\n",
       "      <th>Latest_Launch</th>\n",
       "      <th>Power_perf_factor</th>\n",
       "    </tr>\n",
       "  </thead>\n",
       "  <tbody>\n",
       "    <tr>\n",
       "      <th>0</th>\n",
       "      <td>Acura</td>\n",
       "      <td>Integra</td>\n",
       "      <td>16.919</td>\n",
       "      <td>16.360</td>\n",
       "      <td>Passenger</td>\n",
       "      <td>21.50</td>\n",
       "      <td>1.8</td>\n",
       "      <td>140.0</td>\n",
       "      <td>101.2</td>\n",
       "      <td>67.3</td>\n",
       "      <td>172.4</td>\n",
       "      <td>2.639</td>\n",
       "      <td>13.2</td>\n",
       "      <td>28.0</td>\n",
       "      <td>2/2/2012</td>\n",
       "      <td>58.280150</td>\n",
       "    </tr>\n",
       "    <tr>\n",
       "      <th>1</th>\n",
       "      <td>Acura</td>\n",
       "      <td>TL</td>\n",
       "      <td>39.384</td>\n",
       "      <td>19.875</td>\n",
       "      <td>Passenger</td>\n",
       "      <td>28.40</td>\n",
       "      <td>3.2</td>\n",
       "      <td>225.0</td>\n",
       "      <td>108.1</td>\n",
       "      <td>70.3</td>\n",
       "      <td>192.9</td>\n",
       "      <td>3.517</td>\n",
       "      <td>17.2</td>\n",
       "      <td>25.0</td>\n",
       "      <td>6/3/2011</td>\n",
       "      <td>91.370778</td>\n",
       "    </tr>\n",
       "    <tr>\n",
       "      <th>3</th>\n",
       "      <td>Acura</td>\n",
       "      <td>RL</td>\n",
       "      <td>8.588</td>\n",
       "      <td>29.725</td>\n",
       "      <td>Passenger</td>\n",
       "      <td>42.00</td>\n",
       "      <td>3.5</td>\n",
       "      <td>210.0</td>\n",
       "      <td>114.6</td>\n",
       "      <td>71.4</td>\n",
       "      <td>196.6</td>\n",
       "      <td>3.850</td>\n",
       "      <td>18.0</td>\n",
       "      <td>22.0</td>\n",
       "      <td>3/10/2011</td>\n",
       "      <td>91.389779</td>\n",
       "    </tr>\n",
       "    <tr>\n",
       "      <th>4</th>\n",
       "      <td>Audi</td>\n",
       "      <td>A4</td>\n",
       "      <td>20.397</td>\n",
       "      <td>22.255</td>\n",
       "      <td>Passenger</td>\n",
       "      <td>23.99</td>\n",
       "      <td>1.8</td>\n",
       "      <td>150.0</td>\n",
       "      <td>102.6</td>\n",
       "      <td>68.2</td>\n",
       "      <td>178.0</td>\n",
       "      <td>2.998</td>\n",
       "      <td>16.4</td>\n",
       "      <td>27.0</td>\n",
       "      <td>10/8/2011</td>\n",
       "      <td>62.777639</td>\n",
       "    </tr>\n",
       "    <tr>\n",
       "      <th>5</th>\n",
       "      <td>Audi</td>\n",
       "      <td>A6</td>\n",
       "      <td>18.780</td>\n",
       "      <td>23.555</td>\n",
       "      <td>Passenger</td>\n",
       "      <td>33.95</td>\n",
       "      <td>2.8</td>\n",
       "      <td>200.0</td>\n",
       "      <td>108.7</td>\n",
       "      <td>76.1</td>\n",
       "      <td>192.0</td>\n",
       "      <td>3.561</td>\n",
       "      <td>18.5</td>\n",
       "      <td>22.0</td>\n",
       "      <td>8/9/2011</td>\n",
       "      <td>84.565105</td>\n",
       "    </tr>\n",
       "    <tr>\n",
       "      <th>...</th>\n",
       "      <td>...</td>\n",
       "      <td>...</td>\n",
       "      <td>...</td>\n",
       "      <td>...</td>\n",
       "      <td>...</td>\n",
       "      <td>...</td>\n",
       "      <td>...</td>\n",
       "      <td>...</td>\n",
       "      <td>...</td>\n",
       "      <td>...</td>\n",
       "      <td>...</td>\n",
       "      <td>...</td>\n",
       "      <td>...</td>\n",
       "      <td>...</td>\n",
       "      <td>...</td>\n",
       "      <td>...</td>\n",
       "    </tr>\n",
       "    <tr>\n",
       "      <th>152</th>\n",
       "      <td>Volvo</td>\n",
       "      <td>V40</td>\n",
       "      <td>3.545</td>\n",
       "      <td>0.000</td>\n",
       "      <td>Passenger</td>\n",
       "      <td>24.40</td>\n",
       "      <td>1.9</td>\n",
       "      <td>160.0</td>\n",
       "      <td>100.5</td>\n",
       "      <td>67.6</td>\n",
       "      <td>176.6</td>\n",
       "      <td>3.042</td>\n",
       "      <td>15.8</td>\n",
       "      <td>25.0</td>\n",
       "      <td>9/21/2011</td>\n",
       "      <td>66.498812</td>\n",
       "    </tr>\n",
       "    <tr>\n",
       "      <th>153</th>\n",
       "      <td>Volvo</td>\n",
       "      <td>S70</td>\n",
       "      <td>15.245</td>\n",
       "      <td>0.000</td>\n",
       "      <td>Passenger</td>\n",
       "      <td>27.50</td>\n",
       "      <td>2.4</td>\n",
       "      <td>168.0</td>\n",
       "      <td>104.9</td>\n",
       "      <td>69.3</td>\n",
       "      <td>185.9</td>\n",
       "      <td>3.208</td>\n",
       "      <td>17.9</td>\n",
       "      <td>25.0</td>\n",
       "      <td>11/24/2012</td>\n",
       "      <td>70.654495</td>\n",
       "    </tr>\n",
       "    <tr>\n",
       "      <th>154</th>\n",
       "      <td>Volvo</td>\n",
       "      <td>V70</td>\n",
       "      <td>17.531</td>\n",
       "      <td>0.000</td>\n",
       "      <td>Passenger</td>\n",
       "      <td>28.80</td>\n",
       "      <td>2.4</td>\n",
       "      <td>168.0</td>\n",
       "      <td>104.9</td>\n",
       "      <td>69.3</td>\n",
       "      <td>186.2</td>\n",
       "      <td>3.259</td>\n",
       "      <td>17.9</td>\n",
       "      <td>25.0</td>\n",
       "      <td>6/25/2011</td>\n",
       "      <td>71.155978</td>\n",
       "    </tr>\n",
       "    <tr>\n",
       "      <th>155</th>\n",
       "      <td>Volvo</td>\n",
       "      <td>C70</td>\n",
       "      <td>3.493</td>\n",
       "      <td>0.000</td>\n",
       "      <td>Passenger</td>\n",
       "      <td>45.50</td>\n",
       "      <td>2.3</td>\n",
       "      <td>236.0</td>\n",
       "      <td>104.9</td>\n",
       "      <td>71.5</td>\n",
       "      <td>185.7</td>\n",
       "      <td>3.601</td>\n",
       "      <td>18.5</td>\n",
       "      <td>23.0</td>\n",
       "      <td>4/26/2011</td>\n",
       "      <td>101.623357</td>\n",
       "    </tr>\n",
       "    <tr>\n",
       "      <th>156</th>\n",
       "      <td>Volvo</td>\n",
       "      <td>S80</td>\n",
       "      <td>18.969</td>\n",
       "      <td>0.000</td>\n",
       "      <td>Passenger</td>\n",
       "      <td>36.00</td>\n",
       "      <td>2.9</td>\n",
       "      <td>201.0</td>\n",
       "      <td>109.9</td>\n",
       "      <td>72.1</td>\n",
       "      <td>189.8</td>\n",
       "      <td>3.600</td>\n",
       "      <td>21.1</td>\n",
       "      <td>24.0</td>\n",
       "      <td>11/14/2011</td>\n",
       "      <td>85.735655</td>\n",
       "    </tr>\n",
       "  </tbody>\n",
       "</table>\n",
       "<p>155 rows × 16 columns</p>\n",
       "</div>"
      ],
      "text/plain": [
       "    Manufacturer    Model  Sales_in_thousands  __year_resale_value  \\\n",
       "0          Acura  Integra              16.919               16.360   \n",
       "1          Acura       TL              39.384               19.875   \n",
       "3          Acura       RL               8.588               29.725   \n",
       "4           Audi       A4              20.397               22.255   \n",
       "5           Audi       A6              18.780               23.555   \n",
       "..           ...      ...                 ...                  ...   \n",
       "152        Volvo      V40               3.545                0.000   \n",
       "153        Volvo      S70              15.245                0.000   \n",
       "154        Volvo      V70              17.531                0.000   \n",
       "155        Volvo      C70               3.493                0.000   \n",
       "156        Volvo      S80              18.969                0.000   \n",
       "\n",
       "    Vehicle_type  Price_in_thousands  Engine_size  Horsepower  Wheelbase  \\\n",
       "0      Passenger               21.50          1.8       140.0      101.2   \n",
       "1      Passenger               28.40          3.2       225.0      108.1   \n",
       "3      Passenger               42.00          3.5       210.0      114.6   \n",
       "4      Passenger               23.99          1.8       150.0      102.6   \n",
       "5      Passenger               33.95          2.8       200.0      108.7   \n",
       "..           ...                 ...          ...         ...        ...   \n",
       "152    Passenger               24.40          1.9       160.0      100.5   \n",
       "153    Passenger               27.50          2.4       168.0      104.9   \n",
       "154    Passenger               28.80          2.4       168.0      104.9   \n",
       "155    Passenger               45.50          2.3       236.0      104.9   \n",
       "156    Passenger               36.00          2.9       201.0      109.9   \n",
       "\n",
       "     Width  Length  Curb_weight  Fuel_capacity  Fuel_efficiency Latest_Launch  \\\n",
       "0     67.3   172.4        2.639           13.2             28.0      2/2/2012   \n",
       "1     70.3   192.9        3.517           17.2             25.0      6/3/2011   \n",
       "3     71.4   196.6        3.850           18.0             22.0     3/10/2011   \n",
       "4     68.2   178.0        2.998           16.4             27.0     10/8/2011   \n",
       "5     76.1   192.0        3.561           18.5             22.0      8/9/2011   \n",
       "..     ...     ...          ...            ...              ...           ...   \n",
       "152   67.6   176.6        3.042           15.8             25.0     9/21/2011   \n",
       "153   69.3   185.9        3.208           17.9             25.0    11/24/2012   \n",
       "154   69.3   186.2        3.259           17.9             25.0     6/25/2011   \n",
       "155   71.5   185.7        3.601           18.5             23.0     4/26/2011   \n",
       "156   72.1   189.8        3.600           21.1             24.0    11/14/2011   \n",
       "\n",
       "     Power_perf_factor  \n",
       "0            58.280150  \n",
       "1            91.370778  \n",
       "3            91.389779  \n",
       "4            62.777639  \n",
       "5            84.565105  \n",
       "..                 ...  \n",
       "152          66.498812  \n",
       "153          70.654495  \n",
       "154          71.155978  \n",
       "155         101.623357  \n",
       "156          85.735655  \n",
       "\n",
       "[155 rows x 16 columns]"
      ]
     },
     "execution_count": 15,
     "metadata": {},
     "output_type": "execute_result"
    }
   ],
   "source": [
    "#Removing rows with 0s because since they are that many\n",
    "data1_filtered = data1[data1['Power_perf_factor'] > 0]\n",
    "data1_filtered"
   ]
  },
  {
   "cell_type": "code",
   "execution_count": 16,
   "id": "2a567442",
   "metadata": {},
   "outputs": [
    {
     "data": {
      "text/plain": [
       "<AxesSubplot:>"
      ]
     },
     "execution_count": 16,
     "metadata": {},
     "output_type": "execute_result"
    },
    {
     "data": {
      "image/png": "[encoded data removed]",
      "text/plain": [
       "<Figure size 432x288 with 1 Axes>"
      ]
     },
     "metadata": {
      "needs_background": "light"
     },
     "output_type": "display_data"
    }
   ],
   "source": [
    "#Now we reapply the transformation to see of the tranformations work\n",
    "\n",
    "data1_filtered['Power_perf_factor'].hist()"
   ]
  },
  {
   "cell_type": "code",
   "execution_count": 17,
   "id": "f4e2c968",
   "metadata": {},
   "outputs": [
    {
     "data": {
      "text/plain": [
       "0"
      ]
     },
     "execution_count": 17,
     "metadata": {},
     "output_type": "execute_result"
    }
   ],
   "source": [
    "(data1_filtered.Power_perf_factor < 1).sum().sum()"
   ]
  },
  {
   "cell_type": "code",
   "execution_count": 18,
   "id": "f4f28a22",
   "metadata": {},
   "outputs": [],
   "source": [
    "from scipy.stats import boxcox\n",
    "\n",
    "log_PF_result = boxcox(data1_filtered.Power_perf_factor);\n",
    "lam = log_PF_result[1]\n",
    "PF_boxcoxed = log_PF_result[0]"
   ]
  },
  {
   "cell_type": "code",
   "execution_count": 19,
   "id": "9da63993",
   "metadata": {},
   "outputs": [
    {
     "data": {
      "text/plain": [
       "(array([ 1.,  0.,  6., 26., 30., 41., 32., 12.,  6.,  1.]),\n",
       " array([3.45301753, 3.71968051, 3.9863435 , 4.25300648, 4.51966946,\n",
       "        4.78633245, 5.05299543, 5.31965842, 5.5863214 , 5.85298439,\n",
       "        6.11964737]),\n",
       " <BarContainer object of 10 artists>)"
      ]
     },
     "execution_count": 19,
     "metadata": {},
     "output_type": "execute_result"
    },
    {
     "data": {
      "image/png": "[encoded data removed]",
      "text/plain": [
       "<Figure size 432x288 with 1 Axes>"
      ]
     },
     "metadata": {
      "needs_background": "light"
     },
     "output_type": "display_data"
    }
   ],
   "source": [
    "import matplotlib.pyplot as plt\n",
    "\n",
    "plt.hist(PF_boxcoxed)"
   ]
  },
  {
   "cell_type": "code",
   "execution_count": 20,
   "id": "472c640f",
   "metadata": {},
   "outputs": [
    {
     "data": {
      "text/plain": [
       "NormaltestResult(statistic=1.6058785892818177, pvalue=0.44801019297891154)"
      ]
     },
     "execution_count": 20,
     "metadata": {},
     "output_type": "execute_result"
    }
   ],
   "source": [
    "normaltest(PF_boxcoxed)"
   ]
  },
  {
   "cell_type": "code",
   "execution_count": null,
   "id": "5f3ad189",
   "metadata": {},
   "outputs": [],
   "source": []
  },
  {
   "cell_type": "markdown",
   "id": "ede1d9ab",
   "metadata": {},
   "source": [
    "<h2>Regression Test<h2>"
   ]
  },
  {
   "cell_type": "code",
   "execution_count": 21,
   "id": "d4bb1427",
   "metadata": {},
   "outputs": [],
   "source": [
    "from sklearn.linear_model import LinearRegression\n",
    "from sklearn.metrics import r2_score\n",
    "from sklearn.model_selection import train_test_split\n",
    "from sklearn.preprocessing import (StandardScaler, PolynomialFeatures)"
   ]
  },
  {
   "cell_type": "code",
   "execution_count": 22,
   "id": "48983d35",
   "metadata": {},
   "outputs": [],
   "source": [
    "lr = LinearRegression()"
   ]
  },
  {
   "cell_type": "code",
   "execution_count": 23,
   "id": "9432c976",
   "metadata": {},
   "outputs": [],
   "source": [
    "y_col = \"Power_perf_factor\"\n",
    "\n",
    "x = data1_filtered.drop(y_col, axis = 1)\n",
    "y = data1_filtered[y_col]"
   ]
  },
  {
   "cell_type": "code",
   "execution_count": 24,
   "id": "7d09135f",
   "metadata": {},
   "outputs": [
    {
     "data": {
      "text/html": [
       "<div>\n",
       "<style scoped>\n",
       "    .dataframe tbody tr th:only-of-type {\n",
       "        vertical-align: middle;\n",
       "    }\n",
       "\n",
       "    .dataframe tbody tr th {\n",
       "        vertical-align: top;\n",
       "    }\n",
       "\n",
       "    .dataframe thead th {\n",
       "        text-align: right;\n",
       "    }\n",
       "</style>\n",
       "<table border=\"1\" class=\"dataframe\">\n",
       "  <thead>\n",
       "    <tr style=\"text-align: right;\">\n",
       "      <th></th>\n",
       "      <th>Sales_in_thousands</th>\n",
       "      <th>__year_resale_value</th>\n",
       "      <th>Price_in_thousands</th>\n",
       "      <th>Engine_size</th>\n",
       "      <th>Horsepower</th>\n",
       "      <th>Wheelbase</th>\n",
       "      <th>Width</th>\n",
       "      <th>Length</th>\n",
       "      <th>Curb_weight</th>\n",
       "      <th>Fuel_capacity</th>\n",
       "      <th>Fuel_efficiency</th>\n",
       "    </tr>\n",
       "  </thead>\n",
       "  <tbody>\n",
       "    <tr>\n",
       "      <th>0</th>\n",
       "      <td>16.919</td>\n",
       "      <td>16.360</td>\n",
       "      <td>21.50</td>\n",
       "      <td>1.8</td>\n",
       "      <td>140.0</td>\n",
       "      <td>101.2</td>\n",
       "      <td>67.3</td>\n",
       "      <td>172.4</td>\n",
       "      <td>2.639</td>\n",
       "      <td>13.2</td>\n",
       "      <td>28.0</td>\n",
       "    </tr>\n",
       "    <tr>\n",
       "      <th>1</th>\n",
       "      <td>39.384</td>\n",
       "      <td>19.875</td>\n",
       "      <td>28.40</td>\n",
       "      <td>3.2</td>\n",
       "      <td>225.0</td>\n",
       "      <td>108.1</td>\n",
       "      <td>70.3</td>\n",
       "      <td>192.9</td>\n",
       "      <td>3.517</td>\n",
       "      <td>17.2</td>\n",
       "      <td>25.0</td>\n",
       "    </tr>\n",
       "    <tr>\n",
       "      <th>3</th>\n",
       "      <td>8.588</td>\n",
       "      <td>29.725</td>\n",
       "      <td>42.00</td>\n",
       "      <td>3.5</td>\n",
       "      <td>210.0</td>\n",
       "      <td>114.6</td>\n",
       "      <td>71.4</td>\n",
       "      <td>196.6</td>\n",
       "      <td>3.850</td>\n",
       "      <td>18.0</td>\n",
       "      <td>22.0</td>\n",
       "    </tr>\n",
       "    <tr>\n",
       "      <th>4</th>\n",
       "      <td>20.397</td>\n",
       "      <td>22.255</td>\n",
       "      <td>23.99</td>\n",
       "      <td>1.8</td>\n",
       "      <td>150.0</td>\n",
       "      <td>102.6</td>\n",
       "      <td>68.2</td>\n",
       "      <td>178.0</td>\n",
       "      <td>2.998</td>\n",
       "      <td>16.4</td>\n",
       "      <td>27.0</td>\n",
       "    </tr>\n",
       "    <tr>\n",
       "      <th>5</th>\n",
       "      <td>18.780</td>\n",
       "      <td>23.555</td>\n",
       "      <td>33.95</td>\n",
       "      <td>2.8</td>\n",
       "      <td>200.0</td>\n",
       "      <td>108.7</td>\n",
       "      <td>76.1</td>\n",
       "      <td>192.0</td>\n",
       "      <td>3.561</td>\n",
       "      <td>18.5</td>\n",
       "      <td>22.0</td>\n",
       "    </tr>\n",
       "    <tr>\n",
       "      <th>...</th>\n",
       "      <td>...</td>\n",
       "      <td>...</td>\n",
       "      <td>...</td>\n",
       "      <td>...</td>\n",
       "      <td>...</td>\n",
       "      <td>...</td>\n",
       "      <td>...</td>\n",
       "      <td>...</td>\n",
       "      <td>...</td>\n",
       "      <td>...</td>\n",
       "      <td>...</td>\n",
       "    </tr>\n",
       "    <tr>\n",
       "      <th>152</th>\n",
       "      <td>3.545</td>\n",
       "      <td>0.000</td>\n",
       "      <td>24.40</td>\n",
       "      <td>1.9</td>\n",
       "      <td>160.0</td>\n",
       "      <td>100.5</td>\n",
       "      <td>67.6</td>\n",
       "      <td>176.6</td>\n",
       "      <td>3.042</td>\n",
       "      <td>15.8</td>\n",
       "      <td>25.0</td>\n",
       "    </tr>\n",
       "    <tr>\n",
       "      <th>153</th>\n",
       "      <td>15.245</td>\n",
       "      <td>0.000</td>\n",
       "      <td>27.50</td>\n",
       "      <td>2.4</td>\n",
       "      <td>168.0</td>\n",
       "      <td>104.9</td>\n",
       "      <td>69.3</td>\n",
       "      <td>185.9</td>\n",
       "      <td>3.208</td>\n",
       "      <td>17.9</td>\n",
       "      <td>25.0</td>\n",
       "    </tr>\n",
       "    <tr>\n",
       "      <th>154</th>\n",
       "      <td>17.531</td>\n",
       "      <td>0.000</td>\n",
       "      <td>28.80</td>\n",
       "      <td>2.4</td>\n",
       "      <td>168.0</td>\n",
       "      <td>104.9</td>\n",
       "      <td>69.3</td>\n",
       "      <td>186.2</td>\n",
       "      <td>3.259</td>\n",
       "      <td>17.9</td>\n",
       "      <td>25.0</td>\n",
       "    </tr>\n",
       "    <tr>\n",
       "      <th>155</th>\n",
       "      <td>3.493</td>\n",
       "      <td>0.000</td>\n",
       "      <td>45.50</td>\n",
       "      <td>2.3</td>\n",
       "      <td>236.0</td>\n",
       "      <td>104.9</td>\n",
       "      <td>71.5</td>\n",
       "      <td>185.7</td>\n",
       "      <td>3.601</td>\n",
       "      <td>18.5</td>\n",
       "      <td>23.0</td>\n",
       "    </tr>\n",
       "    <tr>\n",
       "      <th>156</th>\n",
       "      <td>18.969</td>\n",
       "      <td>0.000</td>\n",
       "      <td>36.00</td>\n",
       "      <td>2.9</td>\n",
       "      <td>201.0</td>\n",
       "      <td>109.9</td>\n",
       "      <td>72.1</td>\n",
       "      <td>189.8</td>\n",
       "      <td>3.600</td>\n",
       "      <td>21.1</td>\n",
       "      <td>24.0</td>\n",
       "    </tr>\n",
       "  </tbody>\n",
       "</table>\n",
       "<p>155 rows × 11 columns</p>\n",
       "</div>"
      ],
      "text/plain": [
       "     Sales_in_thousands  __year_resale_value  Price_in_thousands  Engine_size  \\\n",
       "0                16.919               16.360               21.50          1.8   \n",
       "1                39.384               19.875               28.40          3.2   \n",
       "3                 8.588               29.725               42.00          3.5   \n",
       "4                20.397               22.255               23.99          1.8   \n",
       "5                18.780               23.555               33.95          2.8   \n",
       "..                  ...                  ...                 ...          ...   \n",
       "152               3.545                0.000               24.40          1.9   \n",
       "153              15.245                0.000               27.50          2.4   \n",
       "154              17.531                0.000               28.80          2.4   \n",
       "155               3.493                0.000               45.50          2.3   \n",
       "156              18.969                0.000               36.00          2.9   \n",
       "\n",
       "     Horsepower  Wheelbase  Width  Length  Curb_weight  Fuel_capacity  \\\n",
       "0         140.0      101.2   67.3   172.4        2.639           13.2   \n",
       "1         225.0      108.1   70.3   192.9        3.517           17.2   \n",
       "3         210.0      114.6   71.4   196.6        3.850           18.0   \n",
       "4         150.0      102.6   68.2   178.0        2.998           16.4   \n",
       "5         200.0      108.7   76.1   192.0        3.561           18.5   \n",
       "..          ...        ...    ...     ...          ...            ...   \n",
       "152       160.0      100.5   67.6   176.6        3.042           15.8   \n",
       "153       168.0      104.9   69.3   185.9        3.208           17.9   \n",
       "154       168.0      104.9   69.3   186.2        3.259           17.9   \n",
       "155       236.0      104.9   71.5   185.7        3.601           18.5   \n",
       "156       201.0      109.9   72.1   189.8        3.600           21.1   \n",
       "\n",
       "     Fuel_efficiency  \n",
       "0               28.0  \n",
       "1               25.0  \n",
       "3               22.0  \n",
       "4               27.0  \n",
       "5               22.0  \n",
       "..               ...  \n",
       "152             25.0  \n",
       "153             25.0  \n",
       "154             25.0  \n",
       "155             23.0  \n",
       "156             24.0  \n",
       "\n",
       "[155 rows x 11 columns]"
      ]
     },
     "execution_count": 24,
     "metadata": {},
     "output_type": "execute_result"
    }
   ],
   "source": [
    "x.drop(['Manufacturer', 'Model', 'Vehicle_type', 'Latest_Launch'], axis=1, inplace = True)\n",
    "x"
   ]
  },
  {
   "cell_type": "markdown",
   "id": "59c151c8",
   "metadata": {},
   "source": [
    "<h3>Regression</h3>"
   ]
  },
  {
   "cell_type": "code",
   "execution_count": 25,
   "id": "7c619cc9",
   "metadata": {},
   "outputs": [],
   "source": [
    "#train test splits\n",
    "\n",
    "X_train, X_test, y_train, y_test = train_test_split(x, y, test_size = 0.3, random_state = 72108)"
   ]
  },
  {
   "cell_type": "code",
   "execution_count": 26,
   "id": "65c989bc",
   "metadata": {},
   "outputs": [
    {
     "data": {
      "text/plain": [
       "(108, 11)"
      ]
     },
     "execution_count": 26,
     "metadata": {},
     "output_type": "execute_result"
    }
   ],
   "source": [
    "X_train.shape"
   ]
  },
  {
   "cell_type": "code",
   "execution_count": 27,
   "id": "eb92d78d",
   "metadata": {},
   "outputs": [],
   "source": [
    "#scaling the X columns to standardize them\n",
    "s = StandardScaler()\n",
    "x_trainS = s.fit_transform(X_train)"
   ]
  },
  {
   "cell_type": "code",
   "execution_count": 28,
   "id": "07166438",
   "metadata": {},
   "outputs": [],
   "source": [
    "#transforming the Y test column to normalize it\n",
    "bc_result2 = boxcox(y_train)\n",
    "y_trainBC = bc_result2[0]\n",
    "lam2 = bc_result2[1]"
   ]
  },
  {
   "cell_type": "code",
   "execution_count": 29,
   "id": "eccef573",
   "metadata": {},
   "outputs": [
    {
     "data": {
      "text/plain": [
       "(108,)"
      ]
     },
     "execution_count": 29,
     "metadata": {},
     "output_type": "execute_result"
    }
   ],
   "source": [
    "y_trainBC.shape"
   ]
  },
  {
   "cell_type": "code",
   "execution_count": 30,
   "id": "9f111669",
   "metadata": {},
   "outputs": [
    {
     "data": {
      "text/plain": [
       "(108, 11)"
      ]
     },
     "execution_count": 30,
     "metadata": {},
     "output_type": "execute_result"
    }
   ],
   "source": [
    "x_trainS.shape"
   ]
  },
  {
   "cell_type": "code",
   "execution_count": 31,
   "id": "a260897f",
   "metadata": {},
   "outputs": [],
   "source": [
    "#fit and scale the X test\n",
    "\n",
    "lr.fit(x_trainS, y_trainBC)\n",
    "x_testS = s.transform(X_test)\n",
    "y_pred_bc = lr.predict(x_testS)"
   ]
  },
  {
   "cell_type": "code",
   "execution_count": 32,
   "id": "60ae8107",
   "metadata": {},
   "outputs": [
    {
     "data": {
      "text/plain": [
       "array([6.12274466, 6.42515412, 7.02039411, 6.31959349, 8.36718362,\n",
       "       6.5423951 , 6.27120218, 5.72305323, 6.28150725, 6.0770116 ,\n",
       "       6.08495183, 6.58271363, 6.83324112, 5.4995688 , 6.15214922,\n",
       "       7.95872405, 7.62447079, 5.78215498, 6.75609535, 6.46286024,\n",
       "       8.08851344, 5.81497518, 8.01902567, 6.67426453, 6.59203582,\n",
       "       5.90442625, 6.17015051, 6.86243343, 6.56838232, 5.43543564,\n",
       "       6.33203777, 6.41975972, 6.71332167, 5.53965333, 7.22865207,\n",
       "       7.83009149, 7.35727206, 6.15705345, 5.66691783, 5.88187851,\n",
       "       8.11175876, 7.10255897, 6.90647807, 5.92238217, 7.04643225,\n",
       "       5.96111835, 6.67764965])"
      ]
     },
     "execution_count": 32,
     "metadata": {},
     "output_type": "execute_result"
    }
   ],
   "source": [
    "y_pred_bc"
   ]
  },
  {
   "cell_type": "code",
   "execution_count": 33,
   "id": "ec8eaab1",
   "metadata": {},
   "outputs": [],
   "source": [
    "#y_pred_original.shape"
   ]
  },
  {
   "cell_type": "code",
   "execution_count": 34,
   "id": "1daad540",
   "metadata": {},
   "outputs": [
    {
     "data": {
      "text/plain": [
       "(155,)"
      ]
     },
     "execution_count": 34,
     "metadata": {},
     "output_type": "execute_result"
    }
   ],
   "source": [
    "y.shape"
   ]
  },
  {
   "cell_type": "code",
   "execution_count": 35,
   "id": "76886957",
   "metadata": {},
   "outputs": [
    {
     "data": {
      "text/plain": [
       "0.973301934407576"
      ]
     },
     "execution_count": 35,
     "metadata": {},
     "output_type": "execute_result"
    }
   ],
   "source": [
    "#invert our y boxcox to get the original y column and get R2 score\n",
    "from scipy.special import inv_boxcox\n",
    "\n",
    "y_pred_original = inv_boxcox(y_pred_bc, lam2)\n",
    "r2_withtransform = r2_score(y_pred_original, y_test)\n",
    "r2_withtransform"
   ]
  },
  {
   "cell_type": "code",
   "execution_count": 36,
   "id": "424e10bf",
   "metadata": {},
   "outputs": [],
   "source": [
    "#prediction with no scalar transform\n",
    "\n"
   ]
  },
  {
   "cell_type": "code",
   "execution_count": 37,
   "id": "06e7d12b",
   "metadata": {},
   "outputs": [],
   "source": [
    "y_pred_raw = lr.predict(x_testS, )"
   ]
  },
  {
   "cell_type": "markdown",
   "id": "d47fcb20",
   "metadata": {},
   "source": [
    "<h3> Adding Polynomial Features </h3>"
   ]
  },
  {
   "cell_type": "code",
   "execution_count": 38,
   "id": "09e51e77",
   "metadata": {},
   "outputs": [
    {
     "data": {
      "text/plain": [
       "array([[1.691900e+01, 1.636000e+01, 2.150000e+01, ..., 4.878720e+03,\n",
       "        1.034880e+04, 2.195200e+04],\n",
       "       [3.938400e+01, 1.987500e+01, 2.840000e+01, ..., 7.396000e+03,\n",
       "        1.075000e+04, 1.562500e+04],\n",
       "       [8.588000e+00, 2.972500e+01, 4.200000e+01, ..., 7.128000e+03,\n",
       "        8.712000e+03, 1.064800e+04],\n",
       "       ...,\n",
       "       [1.753100e+01, 0.000000e+00, 2.880000e+01, ..., 8.010250e+03,\n",
       "        1.118750e+04, 1.562500e+04],\n",
       "       [3.493000e+00, 0.000000e+00, 4.550000e+01, ..., 7.871750e+03,\n",
       "        9.786500e+03, 1.216700e+04],\n",
       "       [1.896900e+01, 0.000000e+00, 3.600000e+01, ..., 1.068504e+04,\n",
       "        1.215360e+04, 1.382400e+04]])"
      ]
     },
     "execution_count": 38,
     "metadata": {},
     "output_type": "execute_result"
    }
   ],
   "source": [
    "#Adding polynomial features\n",
    "pf = PolynomialFeatures(degree=3 , include_bias=False)\n",
    "xpf = pf.fit_transform(x)\n",
    "xpf"
   ]
  },
  {
   "cell_type": "code",
   "execution_count": 39,
   "id": "e10f13b4",
   "metadata": {},
   "outputs": [],
   "source": [
    "#train test splits for Polynomial features\n",
    "\n",
    "X_trainpf, X_testpf, y_trainpf, y_tespft = train_test_split(xpf, y, test_size = 0.3, random_state = 72108)"
   ]
  },
  {
   "cell_type": "code",
   "execution_count": 40,
   "id": "958995e4",
   "metadata": {},
   "outputs": [],
   "source": [
    "#scaling the xpf columns to standardize them\n",
    "s = StandardScaler()\n",
    "x_trainSpf = s.fit_transform(X_trainpf)"
   ]
  },
  {
   "cell_type": "code",
   "execution_count": 41,
   "id": "1d1d6682",
   "metadata": {},
   "outputs": [],
   "source": [
    "#fit and scale the xpf test\n",
    "\n",
    "lr.fit(x_trainSpf, y_trainBC)\n",
    "x_testSpf = s.transform(X_testpf)\n",
    "y_pred_bcpf = lr.predict(x_testSpf)"
   ]
  },
  {
   "cell_type": "code",
   "execution_count": 42,
   "id": "cd81bd01",
   "metadata": {},
   "outputs": [
    {
     "data": {
      "text/plain": [
       "array([6.13484586, 6.44997423, 7.04261227, 6.32122422, 7.99021796,\n",
       "       6.70923684, 6.15215922, 5.72717354, 6.36066918, 6.06652776,\n",
       "       6.07607814, 6.55632441, 6.87716065, 5.3988582 , 6.21820063,\n",
       "       7.75207686, 7.52488676, 5.8024528 , 6.85729358, 6.47716822,\n",
       "       7.7586186 , 5.77429397, 7.95918847, 6.77331369, 6.45801736,\n",
       "       5.91605839, 6.15296709, 6.91898565, 6.77482027, 5.32217717,\n",
       "       6.33302336, 6.47523192, 6.66916763, 5.42027099, 7.44128532,\n",
       "       7.80689259, 7.29114766, 6.17572285, 5.68219827, 6.00457949,\n",
       "       8.02331805, 7.15177993, 6.8785109 , 5.86912269, 7.12453248,\n",
       "       6.05369635, 6.77528129])"
      ]
     },
     "execution_count": 42,
     "metadata": {},
     "output_type": "execute_result"
    }
   ],
   "source": [
    "y_pred_bcpf"
   ]
  },
  {
   "cell_type": "code",
   "execution_count": 43,
   "id": "146843ff",
   "metadata": {},
   "outputs": [
    {
     "data": {
      "text/plain": [
       "0.9982349252835607"
      ]
     },
     "execution_count": 43,
     "metadata": {},
     "output_type": "execute_result"
    }
   ],
   "source": [
    "#r2 score with Polynomial features degree 2\n",
    "#invert our ypf boxcox to get the original y column and get R2 score\n",
    "from scipy.special import inv_boxcox\n",
    "\n",
    "y_pred_originalpf = inv_boxcox(y_pred_bcpf, lam2)\n",
    "r2_withtransform2 = r2_score(y_pred_originalpf, y_test)\n",
    "r2_withtransform2"
   ]
  },
  {
   "cell_type": "markdown",
   "id": "e5041379",
   "metadata": {},
   "source": [
    "<h3>Adding Regularization</h3>"
   ]
  },
  {
   "cell_type": "code",
   "execution_count": 44,
   "id": "32a5ba47",
   "metadata": {},
   "outputs": [],
   "source": [
    "import warnings\n",
    "warnings.filterwarnings('ignore', module = \"sklearn\")\n",
    "\n",
    "from sklearn.linear_model import Ridge\n",
    "\n",
    "ridgeMod = Ridge(alpha = 0.001)\n",
    "x_trainpf_s = s.fit_transform(X_trainpf)\n",
    "ridgeMod.fit(x_trainpf_s, y_trainpf)\n",
    "x_testpf_s = s.transform(X_testpf)\n",
    "y_pred_Ridge = ridgeMod.predict(x_testpf_s)"
   ]
  },
  {
   "cell_type": "code",
   "execution_count": 45,
   "id": "7bec94ee",
   "metadata": {},
   "outputs": [
    {
     "data": {
      "text/plain": [
       "0.9998600712794143"
      ]
     },
     "execution_count": 45,
     "metadata": {},
     "output_type": "execute_result"
    }
   ],
   "source": [
    "r2_Ridge = r2_score(y_pred_Ridge, y_tespft)\n",
    "r2_Ridge"
   ]
  },
  {
   "cell_type": "code",
   "execution_count": 46,
   "id": "4e9d5182",
   "metadata": {},
   "outputs": [
    {
     "data": {
      "text/plain": [
       "array([ 60.65982295,  70.04640545,  90.50814904,  66.15732719,\n",
       "       140.9595952 ,  78.35939984,  61.80054659,  48.99734892,\n",
       "        67.30400135,  58.67319825,  58.94075872,  73.60426754,\n",
       "        85.47474675,  42.75515623,  62.75772308, 124.60110742,\n",
       "       110.27527089,  52.00289408,  84.22318989,  71.0217287 ,\n",
       "       125.26689129,  50.91641422, 136.17398373,  81.28805355,\n",
       "        71.46704325,  54.67986808,  60.91967757,  87.02659926,\n",
       "        80.77369292,  40.58149163,  66.5385083 ,  71.10661598,\n",
       "        78.27574742,  42.70977692, 106.40777705, 125.30967717,\n",
       "       102.07033189,  61.75480828,  48.79331841,  56.67603376,\n",
       "       140.11872553,  95.61370188,  85.71895455,  53.45189547,\n",
       "        93.64228687,  58.27292876,  81.05341939])"
      ]
     },
     "execution_count": 46,
     "metadata": {},
     "output_type": "execute_result"
    }
   ],
   "source": [
    "y_pred_Ridge"
   ]
  },
  {
   "cell_type": "code",
   "execution_count": 47,
   "id": "a67e45c3",
   "metadata": {},
   "outputs": [
    {
     "data": {
      "text/plain": [
       "110     60.727447\n",
       "106     69.782944\n",
       "100     90.495532\n",
       "151     66.113057\n",
       "99     141.100985\n",
       "92      78.280731\n",
       "53      62.095048\n",
       "67      48.672898\n",
       "48      67.351011\n",
       "81      58.606773\n",
       "64      58.758249\n",
       "127     73.503778\n",
       "12      85.828408\n",
       "57      42.879097\n",
       "4       62.777639\n",
       "72     125.013357\n",
       "18     109.509117\n",
       "114     52.084899\n",
       "13      84.254526\n",
       "104     71.171664\n",
       "78     123.972047\n",
       "87      51.113474\n",
       "126    135.914710\n",
       "120     81.492726\n",
       "41      71.135292\n",
       "63      54.590045\n",
       "116     60.951185\n",
       "70      87.211001\n",
       "112     80.511673\n",
       "130     40.700072\n",
       "152     66.498812\n",
       "10      71.181451\n",
       "141     78.027219\n",
       "50      43.117132\n",
       "117    106.984456\n",
       "94     125.273876\n",
       "66     102.178985\n",
       "147     61.701381\n",
       "148     48.907372\n",
       "139     56.496030\n",
       "95     139.982294\n",
       "11      95.636703\n",
       "156     85.735655\n",
       "115     53.411898\n",
       "44      92.854125\n",
       "0       58.280150\n",
       "23      81.118543\n",
       "Name: Power_perf_factor, dtype: float64"
      ]
     },
     "execution_count": 47,
     "metadata": {},
     "output_type": "execute_result"
    }
   ],
   "source": [
    "y_tespft"
   ]
  },
  {
   "cell_type": "code",
   "execution_count": 48,
   "id": "6c1804e6",
   "metadata": {},
   "outputs": [
    {
     "data": {
      "text/plain": [
       "array([ 60.33744151,  69.42772651,  90.59025012,  66.13589208,\n",
       "       158.25033701,  73.23925365,  64.67002736,  49.83572242,\n",
       "        64.97994389,  59.05157208,  59.2732073 ,  74.58878761,\n",
       "        83.43676161,  44.64771688,  61.17620416, 134.41964503,\n",
       "       117.17381168,  51.28689167,  80.62557406,  70.63546615,\n",
       "       141.65026799,  52.10752021, 137.74064775,  77.72861602,\n",
       "        74.90368808,  54.39867857,  61.69436669,  84.52115874,\n",
       "        74.10678859,  43.24327501,  66.51720167,  69.25632863,\n",
       "        79.10052219,  45.54426163,  99.13071716, 127.55345789,\n",
       "       104.72556524,  61.31701791,  48.4885821 ,  53.81355165,\n",
       "       142.978156  ,  93.88493535,  86.17901163,  54.86834851,\n",
       "        91.62396031,  55.89283783,  77.84674655])"
      ]
     },
     "execution_count": 48,
     "metadata": {},
     "output_type": "execute_result"
    }
   ],
   "source": [
    "y_pred_original"
   ]
  },
  {
   "cell_type": "code",
   "execution_count": null,
   "id": "4a0d5bea",
   "metadata": {},
   "outputs": [],
   "source": []
  },
  {
   "cell_type": "code",
   "execution_count": 79,
   "id": "841d0d02",
   "metadata": {},
   "outputs": [],
   "source": [
    "columns ={'Simple Linear Predictions': y_pred_original, 'Predictions with Polynomials': y_pred_originalpf, 'Predictions with Ridge': y_pred_Ridge, 'Test Values': y_test, 'r2_score Simple Linear': r2_withtransform, 'r2_score Polynomial Features': r2_withtransform2, 'r2_score Ridge': r2_Ridge} "
   ]
  },
  {
   "cell_type": "code",
   "execution_count": null,
   "id": "e2c3bbf4",
   "metadata": {},
   "outputs": [],
   "source": []
  },
  {
   "cell_type": "code",
   "execution_count": 80,
   "id": "cfa18412",
   "metadata": {},
   "outputs": [],
   "source": [
    "predictions_and_tests_df = pd.DataFrame(data=columns)"
   ]
  },
  {
   "cell_type": "code",
   "execution_count": 81,
   "id": "75dad110",
   "metadata": {},
   "outputs": [
    {
     "data": {
      "text/html": [
       "<div>\n",
       "<style scoped>\n",
       "    .dataframe tbody tr th:only-of-type {\n",
       "        vertical-align: middle;\n",
       "    }\n",
       "\n",
       "    .dataframe tbody tr th {\n",
       "        vertical-align: top;\n",
       "    }\n",
       "\n",
       "    .dataframe thead th {\n",
       "        text-align: right;\n",
       "    }\n",
       "</style>\n",
       "<table border=\"1\" class=\"dataframe\">\n",
       "  <thead>\n",
       "    <tr style=\"text-align: right;\">\n",
       "      <th></th>\n",
       "      <th>Simple Linear Predictions</th>\n",
       "      <th>Predictions with Polynomials</th>\n",
       "      <th>Predictions with Ridge</th>\n",
       "      <th>Test Values</th>\n",
       "      <th>r2_score Simple Linear</th>\n",
       "      <th>r2_score Polynomial Features</th>\n",
       "      <th>r2_score Ridge</th>\n",
       "    </tr>\n",
       "  </thead>\n",
       "  <tbody>\n",
       "    <tr>\n",
       "      <th>110</th>\n",
       "      <td>60.337442</td>\n",
       "      <td>60.681483</td>\n",
       "      <td>60.659823</td>\n",
       "      <td>60.727447</td>\n",
       "      <td>0.973302</td>\n",
       "      <td>0.998235</td>\n",
       "      <td>0.99986</td>\n",
       "    </tr>\n",
       "    <tr>\n",
       "      <th>106</th>\n",
       "      <td>69.427727</td>\n",
       "      <td>70.220810</td>\n",
       "      <td>70.046405</td>\n",
       "      <td>69.782944</td>\n",
       "      <td>0.973302</td>\n",
       "      <td>0.998235</td>\n",
       "      <td>0.99986</td>\n",
       "    </tr>\n",
       "    <tr>\n",
       "      <th>100</th>\n",
       "      <td>90.590250</td>\n",
       "      <td>91.471708</td>\n",
       "      <td>90.508149</td>\n",
       "      <td>90.495532</td>\n",
       "      <td>0.973302</td>\n",
       "      <td>0.998235</td>\n",
       "      <td>0.99986</td>\n",
       "    </tr>\n",
       "    <tr>\n",
       "      <th>151</th>\n",
       "      <td>66.135892</td>\n",
       "      <td>66.185758</td>\n",
       "      <td>66.157327</td>\n",
       "      <td>66.113057</td>\n",
       "      <td>0.973302</td>\n",
       "      <td>0.998235</td>\n",
       "      <td>0.99986</td>\n",
       "    </tr>\n",
       "    <tr>\n",
       "      <th>99</th>\n",
       "      <td>158.250337</td>\n",
       "      <td>136.145864</td>\n",
       "      <td>140.959595</td>\n",
       "      <td>141.100985</td>\n",
       "      <td>0.973302</td>\n",
       "      <td>0.998235</td>\n",
       "      <td>0.99986</td>\n",
       "    </tr>\n",
       "  </tbody>\n",
       "</table>\n",
       "</div>"
      ],
      "text/plain": [
       "     Simple Linear Predictions  Predictions with Polynomials  \\\n",
       "110                  60.337442                     60.681483   \n",
       "106                  69.427727                     70.220810   \n",
       "100                  90.590250                     91.471708   \n",
       "151                  66.135892                     66.185758   \n",
       "99                  158.250337                    136.145864   \n",
       "\n",
       "     Predictions with Ridge  Test Values  r2_score Simple Linear  \\\n",
       "110               60.659823    60.727447                0.973302   \n",
       "106               70.046405    69.782944                0.973302   \n",
       "100               90.508149    90.495532                0.973302   \n",
       "151               66.157327    66.113057                0.973302   \n",
       "99               140.959595   141.100985                0.973302   \n",
       "\n",
       "     r2_score Polynomial Features  r2_score Ridge  \n",
       "110                      0.998235         0.99986  \n",
       "106                      0.998235         0.99986  \n",
       "100                      0.998235         0.99986  \n",
       "151                      0.998235         0.99986  \n",
       "99                       0.998235         0.99986  "
      ]
     },
     "execution_count": 81,
     "metadata": {},
     "output_type": "execute_result"
    }
   ],
   "source": [
    "predictions_and_tests_df.head()"
   ]
  },
  {
   "cell_type": "markdown",
   "id": "dd062190",
   "metadata": {},
   "source": [
    "<h3>Plotting Predctions vs Tests</h3>"
   ]
  },
  {
   "cell_type": "code",
   "execution_count": 82,
   "id": "bd708ae5",
   "metadata": {},
   "outputs": [
    {
     "data": {
      "image/png": "[encoded data removed]",
      "text/plain": [
       "<Figure size 432x288 with 1 Axes>"
      ]
     },
     "metadata": {
      "needs_background": "light"
     },
     "output_type": "display_data"
    }
   ],
   "source": [
    "#plotting the predictions to see the visual representations\n",
    "import matplotlib.pyplot as plt\n",
    "\n",
    "x = predictions_and_tests_df['Simple Linear Predictions']\n",
    "y = predictions_and_tests_df['Test Values']\n",
    "plt.scatter(x, y, color='black')\n",
    "plt.scatter(x, y, color='yellow')\n",
    "\n",
    "plt.scatter(x, y, alpha=0.5)\n",
    "plt.show()\n",
    "\n",
    "#predictions_and_tests_df.plot.scatter(x=\"Simple Linear Predictions\", y=\"Test Values\", alpha = 0.5)"
   ]
  },
  {
   "cell_type": "code",
   "execution_count": 83,
   "id": "6019442f",
   "metadata": {},
   "outputs": [
    {
     "data": {
      "text/plain": [
       "<AxesSubplot:xlabel='Predictions with Polynomials', ylabel='Test Values'>"
      ]
     },
     "execution_count": 83,
     "metadata": {},
     "output_type": "execute_result"
    },
    {
     "data": {
      "image/png": "[encoded data removed]",
      "text/plain": [
       "<Figure size 432x288 with 1 Axes>"
      ]
     },
     "metadata": {
      "needs_background": "light"
     },
     "output_type": "display_data"
    }
   ],
   "source": [
    "predictions_and_tests_df.plot.scatter(x=\"Predictions with Polynomials\", y=\"Test Values\")"
   ]
  },
  {
   "cell_type": "code",
   "execution_count": 84,
   "id": "dcd088c1",
   "metadata": {},
   "outputs": [
    {
     "data": {
      "text/plain": [
       "<AxesSubplot:xlabel='Predictions with Ridge', ylabel='Test Values'>"
      ]
     },
     "execution_count": 84,
     "metadata": {},
     "output_type": "execute_result"
    },
    {
     "data": {
      "image/png": "[encoded data removed]",
      "text/plain": [
       "<Figure size 432x288 with 1 Axes>"
      ]
     },
     "metadata": {
      "needs_background": "light"
     },
     "output_type": "display_data"
    }
   ],
   "source": [
    "predictions_and_tests_df.plot.scatter(x=\"Predictions with Ridge\", y=\"Test Values\")"
   ]
  },
  {
   "cell_type": "code",
   "execution_count": 85,
   "id": "485072fa",
   "metadata": {
    "scrolled": true
   },
   "outputs": [
    {
     "data": {
      "text/html": [
       "<div>\n",
       "<style scoped>\n",
       "    .dataframe tbody tr th:only-of-type {\n",
       "        vertical-align: middle;\n",
       "    }\n",
       "\n",
       "    .dataframe tbody tr th {\n",
       "        vertical-align: top;\n",
       "    }\n",
       "\n",
       "    .dataframe thead th {\n",
       "        text-align: right;\n",
       "    }\n",
       "</style>\n",
       "<table border=\"1\" class=\"dataframe\">\n",
       "  <thead>\n",
       "    <tr style=\"text-align: right;\">\n",
       "      <th></th>\n",
       "      <th>Simple Linear Predictions</th>\n",
       "      <th>Predictions with Polynomials</th>\n",
       "      <th>Predictions with Ridge</th>\n",
       "      <th>Test Values</th>\n",
       "      <th>r2_score Simple Linear</th>\n",
       "      <th>r2_score Polynomial Features</th>\n",
       "      <th>r2_score Ridge</th>\n",
       "    </tr>\n",
       "  </thead>\n",
       "  <tbody>\n",
       "    <tr>\n",
       "      <th>0</th>\n",
       "      <td>60.337442</td>\n",
       "      <td>60.681483</td>\n",
       "      <td>60.659823</td>\n",
       "      <td>60.727447</td>\n",
       "      <td>0.973302</td>\n",
       "      <td>0.998235</td>\n",
       "      <td>0.99986</td>\n",
       "    </tr>\n",
       "    <tr>\n",
       "      <th>1</th>\n",
       "      <td>69.427727</td>\n",
       "      <td>70.220810</td>\n",
       "      <td>70.046405</td>\n",
       "      <td>69.782944</td>\n",
       "      <td>0.973302</td>\n",
       "      <td>0.998235</td>\n",
       "      <td>0.99986</td>\n",
       "    </tr>\n",
       "    <tr>\n",
       "      <th>2</th>\n",
       "      <td>90.590250</td>\n",
       "      <td>91.471708</td>\n",
       "      <td>90.508149</td>\n",
       "      <td>90.495532</td>\n",
       "      <td>0.973302</td>\n",
       "      <td>0.998235</td>\n",
       "      <td>0.99986</td>\n",
       "    </tr>\n",
       "    <tr>\n",
       "      <th>3</th>\n",
       "      <td>66.135892</td>\n",
       "      <td>66.185758</td>\n",
       "      <td>66.157327</td>\n",
       "      <td>66.113057</td>\n",
       "      <td>0.973302</td>\n",
       "      <td>0.998235</td>\n",
       "      <td>0.99986</td>\n",
       "    </tr>\n",
       "    <tr>\n",
       "      <th>4</th>\n",
       "      <td>158.250337</td>\n",
       "      <td>136.145864</td>\n",
       "      <td>140.959595</td>\n",
       "      <td>141.100985</td>\n",
       "      <td>0.973302</td>\n",
       "      <td>0.998235</td>\n",
       "      <td>0.99986</td>\n",
       "    </tr>\n",
       "  </tbody>\n",
       "</table>\n",
       "</div>"
      ],
      "text/plain": [
       "   Simple Linear Predictions  Predictions with Polynomials  \\\n",
       "0                  60.337442                     60.681483   \n",
       "1                  69.427727                     70.220810   \n",
       "2                  90.590250                     91.471708   \n",
       "3                  66.135892                     66.185758   \n",
       "4                 158.250337                    136.145864   \n",
       "\n",
       "   Predictions with Ridge  Test Values  r2_score Simple Linear  \\\n",
       "0               60.659823    60.727447                0.973302   \n",
       "1               70.046405    69.782944                0.973302   \n",
       "2               90.508149    90.495532                0.973302   \n",
       "3               66.157327    66.113057                0.973302   \n",
       "4              140.959595   141.100985                0.973302   \n",
       "\n",
       "   r2_score Polynomial Features  r2_score Ridge  \n",
       "0                      0.998235         0.99986  \n",
       "1                      0.998235         0.99986  \n",
       "2                      0.998235         0.99986  \n",
       "3                      0.998235         0.99986  \n",
       "4                      0.998235         0.99986  "
      ]
     },
     "execution_count": 85,
     "metadata": {},
     "output_type": "execute_result"
    }
   ],
   "source": [
    "predictions_and_tests_df.reset_index(drop=True, inplace = True)\n",
    "predictions_and_tests_df.head()"
   ]
  },
  {
   "cell_type": "code",
   "execution_count": 86,
   "id": "3118354f",
   "metadata": {},
   "outputs": [
    {
     "data": {
      "text/html": [
       "<div>\n",
       "<style scoped>\n",
       "    .dataframe tbody tr th:only-of-type {\n",
       "        vertical-align: middle;\n",
       "    }\n",
       "\n",
       "    .dataframe tbody tr th {\n",
       "        vertical-align: top;\n",
       "    }\n",
       "\n",
       "    .dataframe thead th {\n",
       "        text-align: right;\n",
       "    }\n",
       "</style>\n",
       "<table border=\"1\" class=\"dataframe\">\n",
       "  <thead>\n",
       "    <tr style=\"text-align: right;\">\n",
       "      <th></th>\n",
       "      <th>Simple Linear Predictions</th>\n",
       "      <th>Predictions with Polynomials</th>\n",
       "      <th>Predictions with Ridge</th>\n",
       "      <th>Test Values</th>\n",
       "      <th>r2_score Simple Linear</th>\n",
       "      <th>r2_score Polynomial Features</th>\n",
       "      <th>r2_score Ridge</th>\n",
       "    </tr>\n",
       "  </thead>\n",
       "  <tbody>\n",
       "    <tr>\n",
       "      <th>0</th>\n",
       "      <td>60.337442</td>\n",
       "      <td>60.681483</td>\n",
       "      <td>60.659823</td>\n",
       "      <td>60.727447</td>\n",
       "      <td>0.973302</td>\n",
       "      <td>0.998235</td>\n",
       "      <td>0.99986</td>\n",
       "    </tr>\n",
       "    <tr>\n",
       "      <th>1</th>\n",
       "      <td>69.427727</td>\n",
       "      <td>70.220810</td>\n",
       "      <td>70.046405</td>\n",
       "      <td>69.782944</td>\n",
       "      <td>0.973302</td>\n",
       "      <td>0.998235</td>\n",
       "      <td>0.99986</td>\n",
       "    </tr>\n",
       "    <tr>\n",
       "      <th>2</th>\n",
       "      <td>90.590250</td>\n",
       "      <td>91.471708</td>\n",
       "      <td>90.508149</td>\n",
       "      <td>90.495532</td>\n",
       "      <td>0.973302</td>\n",
       "      <td>0.998235</td>\n",
       "      <td>0.99986</td>\n",
       "    </tr>\n",
       "    <tr>\n",
       "      <th>3</th>\n",
       "      <td>66.135892</td>\n",
       "      <td>66.185758</td>\n",
       "      <td>66.157327</td>\n",
       "      <td>66.113057</td>\n",
       "      <td>0.973302</td>\n",
       "      <td>0.998235</td>\n",
       "      <td>0.99986</td>\n",
       "    </tr>\n",
       "    <tr>\n",
       "      <th>4</th>\n",
       "      <td>158.250337</td>\n",
       "      <td>136.145864</td>\n",
       "      <td>140.959595</td>\n",
       "      <td>141.100985</td>\n",
       "      <td>0.973302</td>\n",
       "      <td>0.998235</td>\n",
       "      <td>0.99986</td>\n",
       "    </tr>\n",
       "  </tbody>\n",
       "</table>\n",
       "</div>"
      ],
      "text/plain": [
       "   Simple Linear Predictions  Predictions with Polynomials  \\\n",
       "0                  60.337442                     60.681483   \n",
       "1                  69.427727                     70.220810   \n",
       "2                  90.590250                     91.471708   \n",
       "3                  66.135892                     66.185758   \n",
       "4                 158.250337                    136.145864   \n",
       "\n",
       "   Predictions with Ridge  Test Values  r2_score Simple Linear  \\\n",
       "0               60.659823    60.727447                0.973302   \n",
       "1               70.046405    69.782944                0.973302   \n",
       "2               90.508149    90.495532                0.973302   \n",
       "3               66.157327    66.113057                0.973302   \n",
       "4              140.959595   141.100985                0.973302   \n",
       "\n",
       "   r2_score Polynomial Features  r2_score Ridge  \n",
       "0                      0.998235         0.99986  \n",
       "1                      0.998235         0.99986  \n",
       "2                      0.998235         0.99986  \n",
       "3                      0.998235         0.99986  \n",
       "4                      0.998235         0.99986  "
      ]
     },
     "execution_count": 86,
     "metadata": {},
     "output_type": "execute_result"
    }
   ],
   "source": [
    "#predictions_and_tests_df = predictions_and_tests_df[['Test Values','Simple Linear Predictions','Predictions with Polynomials', 'Predictions with Ridge','r2_score Simple Linear','r2_score Polynomial Features','r2_score Ridge']]\n",
    "predictions_and_tests_df.head()"
   ]
  },
  {
   "cell_type": "code",
   "execution_count": 71,
   "id": "5a6ab38a",
   "metadata": {},
   "outputs": [
    {
     "data": {
      "text/plain": [
       "<seaborn.axisgrid.PairGrid at 0x22ce9a108b0>"
      ]
     },
     "execution_count": 71,
     "metadata": {},
     "output_type": "execute_result"
    },
    {
     "data": {
      "image/png": "[encoded data removed]",
      "text/plain": [
       "<Figure size 963.5x900 with 30 Axes>"
      ]
     },
     "metadata": {
      "needs_background": "light"
     },
     "output_type": "display_data"
    }
   ],
   "source": [
    "import seaborn as sns\n",
    "\n",
    "sns.pairplot(data=predictions_and_tests_df, hue=\"Test Values\")"
   ]
  },
  {
   "cell_type": "code",
   "execution_count": 87,
   "id": "3134fe9c",
   "metadata": {},
   "outputs": [
    {
     "data": {
      "text/plain": [
       "<seaborn.axisgrid.FacetGrid at 0x22ceae8b7c0>"
      ]
     },
     "execution_count": 87,
     "metadata": {},
     "output_type": "execute_result"
    },
    {
     "data": {
      "image/png": "[encoded data removed]",
      "text/plain": [
       "<Figure size 501.25x360 with 1 Axes>"
      ]
     },
     "metadata": {
      "needs_background": "light"
     },
     "output_type": "display_data"
    }
   ],
   "source": [
    "sns.lmplot(data=predictions_and_tests_df, x=\"Simple Linear Predictions\", y=\"Test Values\", hue=\"r2_score Simple Linear\")"
   ]
  },
  {
   "cell_type": "code",
   "execution_count": 88,
   "id": "b2b28cef",
   "metadata": {},
   "outputs": [
    {
     "data": {
      "text/plain": [
       "<seaborn.axisgrid.FacetGrid at 0x22ceace36d0>"
      ]
     },
     "execution_count": 88,
     "metadata": {},
     "output_type": "execute_result"
    },
    {
     "data": {
      "image/png": "[encoded data removed]",
      "text/plain": [
       "<Figure size 513.75x360 with 1 Axes>"
      ]
     },
     "metadata": {
      "needs_background": "light"
     },
     "output_type": "display_data"
    }
   ],
   "source": [
    "sns.lmplot(data=predictions_and_tests_df, x=\"Predictions with Polynomials\", y=\"Test Values\", hue=\"r2_score Polynomial Features\")"
   ]
  },
  {
   "cell_type": "code",
   "execution_count": 89,
   "id": "14e10c8f",
   "metadata": {},
   "outputs": [
    {
     "data": {
      "text/plain": [
       "<seaborn.axisgrid.FacetGrid at 0x22ceaf1d640>"
      ]
     },
     "execution_count": 89,
     "metadata": {},
     "output_type": "execute_result"
    },
    {
     "data": {
      "image/png": "[encoded data removed]",
      "text/plain": [
       "<Figure size 507.625x360 with 1 Axes>"
      ]
     },
     "metadata": {
      "needs_background": "light"
     },
     "output_type": "display_data"
    }
   ],
   "source": [
    "sns.lmplot(data=predictions_and_tests_df, x=\"Predictions with Ridge\", y=\"Test Values\", hue=\"r2_score Ridge\")"
   ]
  },
  {
   "cell_type": "code",
   "execution_count": null,
   "id": "b1173e79",
   "metadata": {},
   "outputs": [],
   "source": []
  },
  {
   "cell_type": "code",
   "execution_count": 167,
   "id": "d92b461b",
   "metadata": {},
   "outputs": [],
   "source": [
    "#predictions_and_tests_df.to_csv(r'C:\\Users\\harol\\OneDrive\\Documents\\IBM_RegressionFinal_r2_scores.csv', index = False)"
   ]
  },
  {
   "cell_type": "code",
   "execution_count": null,
   "id": "7fb1713c",
   "metadata": {},
   "outputs": [],
   "source": []
  },
  {
   "cell_type": "code",
   "execution_count": null,
   "id": "c01c88fd",
   "metadata": {},
   "outputs": [],
   "source": []
  },
  {
   "cell_type": "code",
   "execution_count": 73,
   "id": "2026d5fc",
   "metadata": {},
   "outputs": [
    {
     "data": {
      "text/html": [
       "<div>\n",
       "<style scoped>\n",
       "    .dataframe tbody tr th:only-of-type {\n",
       "        vertical-align: middle;\n",
       "    }\n",
       "\n",
       "    .dataframe tbody tr th {\n",
       "        vertical-align: top;\n",
       "    }\n",
       "\n",
       "    .dataframe thead th {\n",
       "        text-align: right;\n",
       "    }\n",
       "</style>\n",
       "<table border=\"1\" class=\"dataframe\">\n",
       "  <thead>\n",
       "    <tr style=\"text-align: right;\">\n",
       "      <th></th>\n",
       "      <th>a</th>\n",
       "      <th>b</th>\n",
       "      <th>c</th>\n",
       "      <th>d</th>\n",
       "    </tr>\n",
       "  </thead>\n",
       "  <tbody>\n",
       "    <tr>\n",
       "      <th>0</th>\n",
       "      <td>1</td>\n",
       "      <td>2</td>\n",
       "      <td>3</td>\n",
       "      <td>4</td>\n",
       "    </tr>\n",
       "    <tr>\n",
       "      <th>1</th>\n",
       "      <td>100</td>\n",
       "      <td>200</td>\n",
       "      <td>300</td>\n",
       "      <td>400</td>\n",
       "    </tr>\n",
       "    <tr>\n",
       "      <th>2</th>\n",
       "      <td>1000</td>\n",
       "      <td>2000</td>\n",
       "      <td>3000</td>\n",
       "      <td>4000</td>\n",
       "    </tr>\n",
       "    <tr>\n",
       "      <th>3</th>\n",
       "      <td>10000</td>\n",
       "      <td>20000</td>\n",
       "      <td>30000</td>\n",
       "      <td>40000</td>\n",
       "    </tr>\n",
       "  </tbody>\n",
       "</table>\n",
       "</div>"
      ],
      "text/plain": [
       "       a      b      c      d\n",
       "0      1      2      3      4\n",
       "1    100    200    300    400\n",
       "2   1000   2000   3000   4000\n",
       "3  10000  20000  30000  40000"
      ]
     },
     "execution_count": 73,
     "metadata": {},
     "output_type": "execute_result"
    }
   ],
   "source": [
    "mydict = [{'a': 1, 'b': 2, 'c': 3, 'd': 4},\n",
    "          {'a': 100, 'b': 200, 'c': 300, 'd': 400},\n",
    "          {'a': 1000, 'b': 2000, 'c': 3000, 'd': 4000 },\n",
    "          {'a': 10000, 'b': 20000, 'c': 30000, 'd': 40000}]\n",
    "\n",
    "r = pd.DataFrame(mydict)\n",
    "r"
   ]
  },
  {
   "cell_type": "code",
   "execution_count": 74,
   "id": "3308c5b1",
   "metadata": {},
   "outputs": [
    {
     "data": {
      "text/html": [
       "<div>\n",
       "<style scoped>\n",
       "    .dataframe tbody tr th:only-of-type {\n",
       "        vertical-align: middle;\n",
       "    }\n",
       "\n",
       "    .dataframe tbody tr th {\n",
       "        vertical-align: top;\n",
       "    }\n",
       "\n",
       "    .dataframe thead th {\n",
       "        text-align: right;\n",
       "    }\n",
       "</style>\n",
       "<table border=\"1\" class=\"dataframe\">\n",
       "  <thead>\n",
       "    <tr style=\"text-align: right;\">\n",
       "      <th></th>\n",
       "      <th>a</th>\n",
       "      <th>b</th>\n",
       "      <th>c</th>\n",
       "      <th>d</th>\n",
       "    </tr>\n",
       "  </thead>\n",
       "  <tbody>\n",
       "    <tr>\n",
       "      <th>1</th>\n",
       "      <td>100</td>\n",
       "      <td>200</td>\n",
       "      <td>300</td>\n",
       "      <td>400</td>\n",
       "    </tr>\n",
       "  </tbody>\n",
       "</table>\n",
       "</div>"
      ],
      "text/plain": [
       "     a    b    c    d\n",
       "1  100  200  300  400"
      ]
     },
     "execution_count": 74,
     "metadata": {},
     "output_type": "execute_result"
    }
   ],
   "source": [
    "v = r.iloc[1:2]\n",
    "v"
   ]
  },
  {
   "cell_type": "code",
   "execution_count": null,
   "id": "6d0e8156",
   "metadata": {},
   "outputs": [],
   "source": []
  },
  {
   "cell_type": "code",
   "execution_count": 76,
   "id": "42be6a96",
   "metadata": {},
   "outputs": [
    {
     "data": {
      "text/html": [
       "<div>\n",
       "<style scoped>\n",
       "    .dataframe tbody tr th:only-of-type {\n",
       "        vertical-align: middle;\n",
       "    }\n",
       "\n",
       "    .dataframe tbody tr th {\n",
       "        vertical-align: top;\n",
       "    }\n",
       "\n",
       "    .dataframe thead th {\n",
       "        text-align: right;\n",
       "    }\n",
       "</style>\n",
       "<table border=\"1\" class=\"dataframe\">\n",
       "  <thead>\n",
       "    <tr style=\"text-align: right;\">\n",
       "      <th></th>\n",
       "      <th>b</th>\n",
       "      <th>c</th>\n",
       "      <th>d</th>\n",
       "    </tr>\n",
       "  </thead>\n",
       "  <tbody>\n",
       "    <tr>\n",
       "      <th>0</th>\n",
       "      <td>2</td>\n",
       "      <td>3</td>\n",
       "      <td>4</td>\n",
       "    </tr>\n",
       "    <tr>\n",
       "      <th>1</th>\n",
       "      <td>200</td>\n",
       "      <td>300</td>\n",
       "      <td>400</td>\n",
       "    </tr>\n",
       "    <tr>\n",
       "      <th>2</th>\n",
       "      <td>2000</td>\n",
       "      <td>3000</td>\n",
       "      <td>4000</td>\n",
       "    </tr>\n",
       "    <tr>\n",
       "      <th>3</th>\n",
       "      <td>20000</td>\n",
       "      <td>30000</td>\n",
       "      <td>40000</td>\n",
       "    </tr>\n",
       "  </tbody>\n",
       "</table>\n",
       "</div>"
      ],
      "text/plain": [
       "       b      c      d\n",
       "0      2      3      4\n",
       "1    200    300    400\n",
       "2   2000   3000   4000\n",
       "3  20000  30000  40000"
      ]
     },
     "execution_count": 76,
     "metadata": {},
     "output_type": "execute_result"
    }
   ],
   "source": [
    "r.iloc[0:4, 1:4]"
   ]
  },
  {
   "cell_type": "code",
   "execution_count": 2,
   "id": "a317aad4",
   "metadata": {},
   "outputs": [
    {
     "ename": "FileNotFoundError",
     "evalue": "[Errno 2] No such file or directory: 'afile.txt'",
     "output_type": "error",
     "traceback": [
      "\u001b[1;31m---------------------------------------------------------------------------\u001b[0m",
      "\u001b[1;31mFileNotFoundError\u001b[0m                         Traceback (most recent call last)",
      "Input \u001b[1;32mIn [2]\u001b[0m, in \u001b[0;36m<cell line: 1>\u001b[1;34m()\u001b[0m\n\u001b[1;32m----> 1\u001b[0m file2 \u001b[38;5;241m=\u001b[39m \u001b[38;5;28;43mopen\u001b[39;49m\u001b[43m(\u001b[49m\u001b[38;5;124;43m\"\u001b[39;49m\u001b[38;5;124;43mafile.txt\u001b[39;49m\u001b[38;5;124;43m\"\u001b[39;49m\u001b[43m)\u001b[49m\n",
      "\u001b[1;31mFileNotFoundError\u001b[0m: [Errno 2] No such file or directory: 'afile.txt'"
     ]
    }
   ],
   "source": [
    "file2 = open(\"afile.txt\")"
   ]
  },
  {
   "cell_type": "code",
   "execution_count": null,
   "id": "2a3f3ba3",
   "metadata": {},
   "outputs": [],
   "source": []
  }
 ],
 "metadata": {
  "kernelspec": {
   "display_name": "Python 3 (ipykernel)",
   "language": "python",
   "name": "python3"
  },
  "language_info": {
   "codemirror_mode": {
    "name": "ipython",
    "version": 3
   },
   "file_extension": ".py",
   "mimetype": "text/x-python",
   "name": "python",
   "nbconvert_exporter": "python",
   "pygments_lexer": "ipython3",
   "version": "3.9.12"
  }
 },
 "nbformat": 4,
 "nbformat_minor": 5
}
